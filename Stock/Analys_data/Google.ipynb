{
 "cells": [
  {
   "cell_type": "markdown",
   "metadata": {},
   "source": [
    "# <font color=\"red\">B0:Cài đặt thư viện và import </font>\n",
    "- pip install pandas <br>\n",
    "- pip install numpy <br>\n",
    "- pip install matplotlib <br>\n",
    "- pip install scikit-learn (sklearn) <br>\n",
    "- pip install pickle (nếu lỗi version thì pip install pickle5) <br>\n",
    "- pip install yfinance (data về chứng khoán) <br>"
   ]
  },
  {
   "cell_type": "code",
   "execution_count": 1,
   "metadata": {},
   "outputs": [],
   "source": [
    "import yfinance as yf\n",
    "import pandas as pd\n",
    "import numpy as np\n",
    "import matplotlib.pyplot as plt\n",
    "from sklearn.model_selection import train_test_split\n",
    "from sklearn.linear_model import LinearRegression\n",
    "from sklearn.metrics import mean_squared_error\n"
   ]
  },
  {
   "cell_type": "markdown",
   "metadata": {},
   "source": [
    "# <font color=\"red\">B1:Đọc DATA và khám phá dữ liệu ( Công ty Google) </font>"
   ]
  },
  {
   "cell_type": "code",
   "execution_count": 2,
   "metadata": {},
   "outputs": [
    {
     "name": "stdout",
     "output_type": "stream",
     "text": [
      "[*********************100%%**********************]  1 of 1 completed\n"
     ]
    }
   ],
   "source": [
    "# Ticker symbol của cổ phiếu bạn muốn dự đoán\n",
    "ticker_symbol = 'GOOGL'\n",
    "\n",
    "# Lấy dữ liệu lịch sử giá cổ phiếu\n",
    "stock_data = yf.download(ticker_symbol, start='2003-10-20', end='2023-10-20')\n"
   ]
  },
  {
   "cell_type": "code",
   "execution_count": 3,
   "metadata": {},
   "outputs": [
    {
     "data": {
      "text/html": [
       "<div>\n",
       "<style scoped>\n",
       "    .dataframe tbody tr th:only-of-type {\n",
       "        vertical-align: middle;\n",
       "    }\n",
       "\n",
       "    .dataframe tbody tr th {\n",
       "        vertical-align: top;\n",
       "    }\n",
       "\n",
       "    .dataframe thead th {\n",
       "        text-align: right;\n",
       "    }\n",
       "</style>\n",
       "<table border=\"1\" class=\"dataframe\">\n",
       "  <thead>\n",
       "    <tr style=\"text-align: right;\">\n",
       "      <th></th>\n",
       "      <th>Open</th>\n",
       "      <th>High</th>\n",
       "      <th>Low</th>\n",
       "      <th>Close</th>\n",
       "      <th>Adj Close</th>\n",
       "      <th>Volume</th>\n",
       "    </tr>\n",
       "    <tr>\n",
       "      <th>Date</th>\n",
       "      <th></th>\n",
       "      <th></th>\n",
       "      <th></th>\n",
       "      <th></th>\n",
       "      <th></th>\n",
       "      <th></th>\n",
       "    </tr>\n",
       "  </thead>\n",
       "  <tbody>\n",
       "    <tr>\n",
       "      <th>2004-08-19</th>\n",
       "      <td>2.502503</td>\n",
       "      <td>2.604104</td>\n",
       "      <td>2.401401</td>\n",
       "      <td>2.511011</td>\n",
       "      <td>2.511011</td>\n",
       "      <td>893181924</td>\n",
       "    </tr>\n",
       "    <tr>\n",
       "      <th>2004-08-20</th>\n",
       "      <td>2.527778</td>\n",
       "      <td>2.729730</td>\n",
       "      <td>2.515015</td>\n",
       "      <td>2.710460</td>\n",
       "      <td>2.710460</td>\n",
       "      <td>456686856</td>\n",
       "    </tr>\n",
       "    <tr>\n",
       "      <th>2004-08-23</th>\n",
       "      <td>2.771522</td>\n",
       "      <td>2.839840</td>\n",
       "      <td>2.728979</td>\n",
       "      <td>2.737738</td>\n",
       "      <td>2.737738</td>\n",
       "      <td>365122512</td>\n",
       "    </tr>\n",
       "    <tr>\n",
       "      <th>2004-08-24</th>\n",
       "      <td>2.783784</td>\n",
       "      <td>2.792793</td>\n",
       "      <td>2.591842</td>\n",
       "      <td>2.624374</td>\n",
       "      <td>2.624374</td>\n",
       "      <td>304946748</td>\n",
       "    </tr>\n",
       "    <tr>\n",
       "      <th>2004-08-25</th>\n",
       "      <td>2.626627</td>\n",
       "      <td>2.702703</td>\n",
       "      <td>2.599600</td>\n",
       "      <td>2.652653</td>\n",
       "      <td>2.652653</td>\n",
       "      <td>183772044</td>\n",
       "    </tr>\n",
       "    <tr>\n",
       "      <th>...</th>\n",
       "      <td>...</td>\n",
       "      <td>...</td>\n",
       "      <td>...</td>\n",
       "      <td>...</td>\n",
       "      <td>...</td>\n",
       "      <td>...</td>\n",
       "    </tr>\n",
       "    <tr>\n",
       "      <th>2023-10-13</th>\n",
       "      <td>139.380005</td>\n",
       "      <td>140.000000</td>\n",
       "      <td>136.619995</td>\n",
       "      <td>137.360001</td>\n",
       "      <td>137.360001</td>\n",
       "      <td>23420500</td>\n",
       "    </tr>\n",
       "    <tr>\n",
       "      <th>2023-10-16</th>\n",
       "      <td>138.169998</td>\n",
       "      <td>139.630005</td>\n",
       "      <td>137.990005</td>\n",
       "      <td>139.100006</td>\n",
       "      <td>139.100006</td>\n",
       "      <td>28501900</td>\n",
       "    </tr>\n",
       "    <tr>\n",
       "      <th>2023-10-17</th>\n",
       "      <td>138.630005</td>\n",
       "      <td>139.899994</td>\n",
       "      <td>137.179993</td>\n",
       "      <td>139.720001</td>\n",
       "      <td>139.720001</td>\n",
       "      <td>23515800</td>\n",
       "    </tr>\n",
       "    <tr>\n",
       "      <th>2023-10-18</th>\n",
       "      <td>139.449997</td>\n",
       "      <td>140.720001</td>\n",
       "      <td>137.380005</td>\n",
       "      <td>137.960007</td>\n",
       "      <td>137.960007</td>\n",
       "      <td>23375000</td>\n",
       "    </tr>\n",
       "    <tr>\n",
       "      <th>2023-10-19</th>\n",
       "      <td>138.500000</td>\n",
       "      <td>139.660004</td>\n",
       "      <td>137.380005</td>\n",
       "      <td>137.750000</td>\n",
       "      <td>137.750000</td>\n",
       "      <td>26066000</td>\n",
       "    </tr>\n",
       "  </tbody>\n",
       "</table>\n",
       "<p>4826 rows × 6 columns</p>\n",
       "</div>"
      ],
      "text/plain": [
       "                  Open        High         Low       Close   Adj Close   \n",
       "Date                                                                     \n",
       "2004-08-19    2.502503    2.604104    2.401401    2.511011    2.511011  \\\n",
       "2004-08-20    2.527778    2.729730    2.515015    2.710460    2.710460   \n",
       "2004-08-23    2.771522    2.839840    2.728979    2.737738    2.737738   \n",
       "2004-08-24    2.783784    2.792793    2.591842    2.624374    2.624374   \n",
       "2004-08-25    2.626627    2.702703    2.599600    2.652653    2.652653   \n",
       "...                ...         ...         ...         ...         ...   \n",
       "2023-10-13  139.380005  140.000000  136.619995  137.360001  137.360001   \n",
       "2023-10-16  138.169998  139.630005  137.990005  139.100006  139.100006   \n",
       "2023-10-17  138.630005  139.899994  137.179993  139.720001  139.720001   \n",
       "2023-10-18  139.449997  140.720001  137.380005  137.960007  137.960007   \n",
       "2023-10-19  138.500000  139.660004  137.380005  137.750000  137.750000   \n",
       "\n",
       "               Volume  \n",
       "Date                   \n",
       "2004-08-19  893181924  \n",
       "2004-08-20  456686856  \n",
       "2004-08-23  365122512  \n",
       "2004-08-24  304946748  \n",
       "2004-08-25  183772044  \n",
       "...               ...  \n",
       "2023-10-13   23420500  \n",
       "2023-10-16   28501900  \n",
       "2023-10-17   23515800  \n",
       "2023-10-18   23375000  \n",
       "2023-10-19   26066000  \n",
       "\n",
       "[4826 rows x 6 columns]"
      ]
     },
     "execution_count": 3,
     "metadata": {},
     "output_type": "execute_result"
    }
   ],
   "source": [
    "stock_data"
   ]
  },
  {
   "cell_type": "code",
   "execution_count": 4,
   "metadata": {},
   "outputs": [
    {
     "name": "stdout",
     "output_type": "stream",
     "text": [
      "<class 'pandas.core.frame.DataFrame'>\n",
      "DatetimeIndex: 4826 entries, 2004-08-19 to 2023-10-19\n",
      "Data columns (total 6 columns):\n",
      " #   Column     Non-Null Count  Dtype  \n",
      "---  ------     --------------  -----  \n",
      " 0   Open       4826 non-null   float64\n",
      " 1   High       4826 non-null   float64\n",
      " 2   Low        4826 non-null   float64\n",
      " 3   Close      4826 non-null   float64\n",
      " 4   Adj Close  4826 non-null   float64\n",
      " 5   Volume     4826 non-null   int64  \n",
      "dtypes: float64(5), int64(1)\n",
      "memory usage: 263.9 KB\n"
     ]
    }
   ],
   "source": [
    "stock_data.info()"
   ]
  },
  {
   "cell_type": "code",
   "execution_count": 5,
   "metadata": {},
   "outputs": [
    {
     "data": {
      "text/plain": [
       "Index(['Open', 'High', 'Low', 'Close', 'Adj Close', 'Volume'], dtype='object')"
      ]
     },
     "execution_count": 5,
     "metadata": {},
     "output_type": "execute_result"
    }
   ],
   "source": [
    "stock_data.keys()\n",
    "# Những feature của tập dữ liệu"
   ]
  },
  {
   "cell_type": "code",
   "execution_count": 6,
   "metadata": {},
   "outputs": [
    {
     "data": {
      "text/html": [
       "<div>\n",
       "<style scoped>\n",
       "    .dataframe tbody tr th:only-of-type {\n",
       "        vertical-align: middle;\n",
       "    }\n",
       "\n",
       "    .dataframe tbody tr th {\n",
       "        vertical-align: top;\n",
       "    }\n",
       "\n",
       "    .dataframe thead th {\n",
       "        text-align: right;\n",
       "    }\n",
       "</style>\n",
       "<table border=\"1\" class=\"dataframe\">\n",
       "  <thead>\n",
       "    <tr style=\"text-align: right;\">\n",
       "      <th></th>\n",
       "      <th>Open</th>\n",
       "      <th>High</th>\n",
       "      <th>Low</th>\n",
       "      <th>Close</th>\n",
       "      <th>Adj Close</th>\n",
       "      <th>Volume</th>\n",
       "    </tr>\n",
       "  </thead>\n",
       "  <tbody>\n",
       "    <tr>\n",
       "      <th>count</th>\n",
       "      <td>4826.000000</td>\n",
       "      <td>4826.000000</td>\n",
       "      <td>4826.000000</td>\n",
       "      <td>4826.000000</td>\n",
       "      <td>4826.000000</td>\n",
       "      <td>4.826000e+03</td>\n",
       "    </tr>\n",
       "    <tr>\n",
       "      <th>mean</th>\n",
       "      <td>40.977575</td>\n",
       "      <td>41.409022</td>\n",
       "      <td>40.546866</td>\n",
       "      <td>40.986860</td>\n",
       "      <td>40.986860</td>\n",
       "      <td>1.210726e+08</td>\n",
       "    </tr>\n",
       "    <tr>\n",
       "      <th>std</th>\n",
       "      <td>37.710560</td>\n",
       "      <td>38.140725</td>\n",
       "      <td>37.300075</td>\n",
       "      <td>37.727800</td>\n",
       "      <td>37.727800</td>\n",
       "      <td>1.497356e+08</td>\n",
       "    </tr>\n",
       "    <tr>\n",
       "      <th>min</th>\n",
       "      <td>2.482232</td>\n",
       "      <td>2.546046</td>\n",
       "      <td>2.401401</td>\n",
       "      <td>2.502753</td>\n",
       "      <td>2.502753</td>\n",
       "      <td>9.312000e+06</td>\n",
       "    </tr>\n",
       "    <tr>\n",
       "      <th>25%</th>\n",
       "      <td>12.863488</td>\n",
       "      <td>13.004316</td>\n",
       "      <td>12.744244</td>\n",
       "      <td>12.876314</td>\n",
       "      <td>12.876314</td>\n",
       "      <td>3.198700e+07</td>\n",
       "    </tr>\n",
       "    <tr>\n",
       "      <th>50%</th>\n",
       "      <td>26.897500</td>\n",
       "      <td>27.117500</td>\n",
       "      <td>26.649250</td>\n",
       "      <td>26.911500</td>\n",
       "      <td>26.911500</td>\n",
       "      <td>6.537656e+07</td>\n",
       "    </tr>\n",
       "    <tr>\n",
       "      <th>75%</th>\n",
       "      <td>57.189502</td>\n",
       "      <td>57.669875</td>\n",
       "      <td>56.611250</td>\n",
       "      <td>57.264874</td>\n",
       "      <td>57.264874</td>\n",
       "      <td>1.468140e+08</td>\n",
       "    </tr>\n",
       "    <tr>\n",
       "      <th>max</th>\n",
       "      <td>151.250000</td>\n",
       "      <td>151.546494</td>\n",
       "      <td>148.899002</td>\n",
       "      <td>149.838501</td>\n",
       "      <td>149.838501</td>\n",
       "      <td>1.643023e+09</td>\n",
       "    </tr>\n",
       "  </tbody>\n",
       "</table>\n",
       "</div>"
      ],
      "text/plain": [
       "              Open         High          Low        Close    Adj Close   \n",
       "count  4826.000000  4826.000000  4826.000000  4826.000000  4826.000000  \\\n",
       "mean     40.977575    41.409022    40.546866    40.986860    40.986860   \n",
       "std      37.710560    38.140725    37.300075    37.727800    37.727800   \n",
       "min       2.482232     2.546046     2.401401     2.502753     2.502753   \n",
       "25%      12.863488    13.004316    12.744244    12.876314    12.876314   \n",
       "50%      26.897500    27.117500    26.649250    26.911500    26.911500   \n",
       "75%      57.189502    57.669875    56.611250    57.264874    57.264874   \n",
       "max     151.250000   151.546494   148.899002   149.838501   149.838501   \n",
       "\n",
       "             Volume  \n",
       "count  4.826000e+03  \n",
       "mean   1.210726e+08  \n",
       "std    1.497356e+08  \n",
       "min    9.312000e+06  \n",
       "25%    3.198700e+07  \n",
       "50%    6.537656e+07  \n",
       "75%    1.468140e+08  \n",
       "max    1.643023e+09  "
      ]
     },
     "execution_count": 6,
     "metadata": {},
     "output_type": "execute_result"
    }
   ],
   "source": [
    "stock_data.describe()\n",
    "# Thống kê mô tả về tập dữ liệu"
   ]
  },
  {
   "cell_type": "markdown",
   "metadata": {},
   "source": [
    "# <font color=\"red\">B2:Kiểm tra và tiền xử lý dữ liệu(nếu có) </font>"
   ]
  },
  {
   "cell_type": "code",
   "execution_count": 7,
   "metadata": {},
   "outputs": [
    {
     "data": {
      "text/plain": [
       "(4826, 6)"
      ]
     },
     "execution_count": 7,
     "metadata": {},
     "output_type": "execute_result"
    }
   ],
   "source": [
    "stock_data.shape\n",
    "# kích thước dữ liệu"
   ]
  },
  {
   "cell_type": "code",
   "execution_count": 8,
   "metadata": {},
   "outputs": [
    {
     "data": {
      "text/plain": [
       "Open         float64\n",
       "High         float64\n",
       "Low          float64\n",
       "Close        float64\n",
       "Adj Close    float64\n",
       "Volume         int64\n",
       "dtype: object"
      ]
     },
     "execution_count": 8,
     "metadata": {},
     "output_type": "execute_result"
    }
   ],
   "source": [
    "stock_data.dtypes\n",
    "#Kiểu dữ liệu của từng feature"
   ]
  },
  {
   "cell_type": "code",
   "execution_count": 9,
   "metadata": {},
   "outputs": [
    {
     "data": {
      "text/plain": [
       "Open         0\n",
       "High         0\n",
       "Low          0\n",
       "Close        0\n",
       "Adj Close    0\n",
       "Volume       0\n",
       "dtype: int64"
      ]
     },
     "execution_count": 9,
     "metadata": {},
     "output_type": "execute_result"
    }
   ],
   "source": [
    "stock_data.isnull().sum()\n",
    "#check missing value"
   ]
  },
  {
   "cell_type": "markdown",
   "metadata": {},
   "source": [
    "### <font color = 'yellow' >Ta thấy tập dữ liệu này khá là sạch<font>"
   ]
  },
  {
   "cell_type": "code",
   "execution_count": 10,
   "metadata": {},
   "outputs": [
    {
     "data": {
      "text/plain": [
       "Date\n",
       "2004-08-19      2.511011\n",
       "2004-08-20      2.710460\n",
       "2004-08-23      2.737738\n",
       "2004-08-24      2.624374\n",
       "2004-08-25      2.652653\n",
       "                 ...    \n",
       "2023-10-13    137.360001\n",
       "2023-10-16    139.100006\n",
       "2023-10-17    139.720001\n",
       "2023-10-18    137.960007\n",
       "2023-10-19    137.750000\n",
       "Name: Adj Close, Length: 4826, dtype: float64"
      ]
     },
     "execution_count": 10,
     "metadata": {},
     "output_type": "execute_result"
    }
   ],
   "source": [
    "# Chọn cột 'Adj Close' (giá đóng cửa đã điều chỉnh) làm biến phụ thuộc (y)\n",
    "y = stock_data['Adj Close']\n",
    "y"
   ]
  },
  {
   "cell_type": "code",
   "execution_count": 11,
   "metadata": {},
   "outputs": [
    {
     "data": {
      "image/png": "[encoded data removed]",
      "text/plain": [
       "<Figure size 1200x600 with 1 Axes>"
      ]
     },
     "metadata": {},
     "output_type": "display_data"
    }
   ],
   "source": [
    "# Vẽ biểu đồ đường cho cột 'Adj Close'\n",
    "plt.figure(figsize=(12, 6))\n",
    "plt.plot(stock_data.index, y, label='Adj Close', color='blue')\n",
    "plt.title('Biểu đồ Adj Close')\n",
    "plt.xlabel('Ngày')\n",
    "plt.ylabel('Giá đóng cửa đã điều chỉnh')\n",
    "plt.legend()\n",
    "plt.grid(True)\n",
    "plt.show()"
   ]
  },
  {
   "cell_type": "code",
   "execution_count": 12,
   "metadata": {},
   "outputs": [
    {
     "data": {
      "text/html": [
       "<div>\n",
       "<style scoped>\n",
       "    .dataframe tbody tr th:only-of-type {\n",
       "        vertical-align: middle;\n",
       "    }\n",
       "\n",
       "    .dataframe tbody tr th {\n",
       "        vertical-align: top;\n",
       "    }\n",
       "\n",
       "    .dataframe thead th {\n",
       "        text-align: right;\n",
       "    }\n",
       "</style>\n",
       "<table border=\"1\" class=\"dataframe\">\n",
       "  <thead>\n",
       "    <tr style=\"text-align: right;\">\n",
       "      <th></th>\n",
       "      <th>Open</th>\n",
       "      <th>High</th>\n",
       "      <th>Low</th>\n",
       "      <th>Close</th>\n",
       "      <th>Volume</th>\n",
       "    </tr>\n",
       "    <tr>\n",
       "      <th>Date</th>\n",
       "      <th></th>\n",
       "      <th></th>\n",
       "      <th></th>\n",
       "      <th></th>\n",
       "      <th></th>\n",
       "    </tr>\n",
       "  </thead>\n",
       "  <tbody>\n",
       "    <tr>\n",
       "      <th>2004-08-19</th>\n",
       "      <td>2.502503</td>\n",
       "      <td>2.604104</td>\n",
       "      <td>2.401401</td>\n",
       "      <td>2.511011</td>\n",
       "      <td>893181924</td>\n",
       "    </tr>\n",
       "    <tr>\n",
       "      <th>2004-08-20</th>\n",
       "      <td>2.527778</td>\n",
       "      <td>2.729730</td>\n",
       "      <td>2.515015</td>\n",
       "      <td>2.710460</td>\n",
       "      <td>456686856</td>\n",
       "    </tr>\n",
       "    <tr>\n",
       "      <th>2004-08-23</th>\n",
       "      <td>2.771522</td>\n",
       "      <td>2.839840</td>\n",
       "      <td>2.728979</td>\n",
       "      <td>2.737738</td>\n",
       "      <td>365122512</td>\n",
       "    </tr>\n",
       "    <tr>\n",
       "      <th>2004-08-24</th>\n",
       "      <td>2.783784</td>\n",
       "      <td>2.792793</td>\n",
       "      <td>2.591842</td>\n",
       "      <td>2.624374</td>\n",
       "      <td>304946748</td>\n",
       "    </tr>\n",
       "    <tr>\n",
       "      <th>2004-08-25</th>\n",
       "      <td>2.626627</td>\n",
       "      <td>2.702703</td>\n",
       "      <td>2.599600</td>\n",
       "      <td>2.652653</td>\n",
       "      <td>183772044</td>\n",
       "    </tr>\n",
       "    <tr>\n",
       "      <th>...</th>\n",
       "      <td>...</td>\n",
       "      <td>...</td>\n",
       "      <td>...</td>\n",
       "      <td>...</td>\n",
       "      <td>...</td>\n",
       "    </tr>\n",
       "    <tr>\n",
       "      <th>2023-10-13</th>\n",
       "      <td>139.380005</td>\n",
       "      <td>140.000000</td>\n",
       "      <td>136.619995</td>\n",
       "      <td>137.360001</td>\n",
       "      <td>23420500</td>\n",
       "    </tr>\n",
       "    <tr>\n",
       "      <th>2023-10-16</th>\n",
       "      <td>138.169998</td>\n",
       "      <td>139.630005</td>\n",
       "      <td>137.990005</td>\n",
       "      <td>139.100006</td>\n",
       "      <td>28501900</td>\n",
       "    </tr>\n",
       "    <tr>\n",
       "      <th>2023-10-17</th>\n",
       "      <td>138.630005</td>\n",
       "      <td>139.899994</td>\n",
       "      <td>137.179993</td>\n",
       "      <td>139.720001</td>\n",
       "      <td>23515800</td>\n",
       "    </tr>\n",
       "    <tr>\n",
       "      <th>2023-10-18</th>\n",
       "      <td>139.449997</td>\n",
       "      <td>140.720001</td>\n",
       "      <td>137.380005</td>\n",
       "      <td>137.960007</td>\n",
       "      <td>23375000</td>\n",
       "    </tr>\n",
       "    <tr>\n",
       "      <th>2023-10-19</th>\n",
       "      <td>138.500000</td>\n",
       "      <td>139.660004</td>\n",
       "      <td>137.380005</td>\n",
       "      <td>137.750000</td>\n",
       "      <td>26066000</td>\n",
       "    </tr>\n",
       "  </tbody>\n",
       "</table>\n",
       "<p>4826 rows × 5 columns</p>\n",
       "</div>"
      ],
      "text/plain": [
       "                  Open        High         Low       Close     Volume\n",
       "Date                                                                 \n",
       "2004-08-19    2.502503    2.604104    2.401401    2.511011  893181924\n",
       "2004-08-20    2.527778    2.729730    2.515015    2.710460  456686856\n",
       "2004-08-23    2.771522    2.839840    2.728979    2.737738  365122512\n",
       "2004-08-24    2.783784    2.792793    2.591842    2.624374  304946748\n",
       "2004-08-25    2.626627    2.702703    2.599600    2.652653  183772044\n",
       "...                ...         ...         ...         ...        ...\n",
       "2023-10-13  139.380005  140.000000  136.619995  137.360001   23420500\n",
       "2023-10-16  138.169998  139.630005  137.990005  139.100006   28501900\n",
       "2023-10-17  138.630005  139.899994  137.179993  139.720001   23515800\n",
       "2023-10-18  139.449997  140.720001  137.380005  137.960007   23375000\n",
       "2023-10-19  138.500000  139.660004  137.380005  137.750000   26066000\n",
       "\n",
       "[4826 rows x 5 columns]"
      ]
     },
     "execution_count": 12,
     "metadata": {},
     "output_type": "execute_result"
    }
   ],
   "source": [
    "# Chọn các cột trừ cột 'Adj Close' làm biến độc lập (x)\n",
    "X = stock_data.drop(columns=['Adj Close'])\n",
    "X"
   ]
  },
  {
   "cell_type": "markdown",
   "metadata": {},
   "source": [
    "### <font color = 'yellow' >Thay vì sử dụng chỉ số( index) là số thứ tự thì ta sẽ dùng ngày tháng. Do ko ảnh hưởng đến việc huấn luyện nên ta không cần chuyển về dạng số thứ tự<font>"
   ]
  },
  {
   "cell_type": "markdown",
   "metadata": {},
   "source": [
    "### <font color = 'yellow' >Ta hãy lưu mô hình chuẩn hóa sau vào 1 file, để sau này chúng ta sẽ chuẩn hóa dữ liệu nhập vào theo file này( lưu chuẩn hóa của X vì dữ liệu chúng ta nhập vào là tập dữ liệu X, tức đầu vào)<font>"
   ]
  },
  {
   "cell_type": "code",
   "execution_count": 13,
   "metadata": {},
   "outputs": [
    {
     "data": {
      "text/html": [
       "<div>\n",
       "<style scoped>\n",
       "    .dataframe tbody tr th:only-of-type {\n",
       "        vertical-align: middle;\n",
       "    }\n",
       "\n",
       "    .dataframe tbody tr th {\n",
       "        vertical-align: top;\n",
       "    }\n",
       "\n",
       "    .dataframe thead th {\n",
       "        text-align: right;\n",
       "    }\n",
       "</style>\n",
       "<table border=\"1\" class=\"dataframe\">\n",
       "  <thead>\n",
       "    <tr style=\"text-align: right;\">\n",
       "      <th></th>\n",
       "      <th>Open</th>\n",
       "      <th>High</th>\n",
       "      <th>Low</th>\n",
       "      <th>Close</th>\n",
       "      <th>Volume</th>\n",
       "    </tr>\n",
       "    <tr>\n",
       "      <th>Date</th>\n",
       "      <th></th>\n",
       "      <th></th>\n",
       "      <th></th>\n",
       "      <th></th>\n",
       "      <th></th>\n",
       "    </tr>\n",
       "  </thead>\n",
       "  <tbody>\n",
       "    <tr>\n",
       "      <th>2004-08-19</th>\n",
       "      <td>0.000136</td>\n",
       "      <td>0.000390</td>\n",
       "      <td>0.000000</td>\n",
       "      <td>0.000056</td>\n",
       "      <td>0.541020</td>\n",
       "    </tr>\n",
       "    <tr>\n",
       "      <th>2004-08-20</th>\n",
       "      <td>0.000306</td>\n",
       "      <td>0.001233</td>\n",
       "      <td>0.000776</td>\n",
       "      <td>0.001410</td>\n",
       "      <td>0.273840</td>\n",
       "    </tr>\n",
       "    <tr>\n",
       "      <th>2004-08-23</th>\n",
       "      <td>0.001945</td>\n",
       "      <td>0.001972</td>\n",
       "      <td>0.002236</td>\n",
       "      <td>0.001595</td>\n",
       "      <td>0.217793</td>\n",
       "    </tr>\n",
       "    <tr>\n",
       "      <th>2004-08-24</th>\n",
       "      <td>0.002027</td>\n",
       "      <td>0.001656</td>\n",
       "      <td>0.001300</td>\n",
       "      <td>0.000825</td>\n",
       "      <td>0.180959</td>\n",
       "    </tr>\n",
       "    <tr>\n",
       "      <th>2004-08-25</th>\n",
       "      <td>0.000971</td>\n",
       "      <td>0.001051</td>\n",
       "      <td>0.001353</td>\n",
       "      <td>0.001017</td>\n",
       "      <td>0.106788</td>\n",
       "    </tr>\n",
       "    <tr>\n",
       "      <th>...</th>\n",
       "      <td>...</td>\n",
       "      <td>...</td>\n",
       "      <td>...</td>\n",
       "      <td>...</td>\n",
       "      <td>...</td>\n",
       "    </tr>\n",
       "    <tr>\n",
       "      <th>2023-10-13</th>\n",
       "      <td>0.920211</td>\n",
       "      <td>0.922507</td>\n",
       "      <td>0.916183</td>\n",
       "      <td>0.915306</td>\n",
       "      <td>0.008636</td>\n",
       "    </tr>\n",
       "    <tr>\n",
       "      <th>2023-10-16</th>\n",
       "      <td>0.912078</td>\n",
       "      <td>0.920024</td>\n",
       "      <td>0.925535</td>\n",
       "      <td>0.927115</td>\n",
       "      <td>0.011746</td>\n",
       "    </tr>\n",
       "    <tr>\n",
       "      <th>2023-10-17</th>\n",
       "      <td>0.915170</td>\n",
       "      <td>0.921836</td>\n",
       "      <td>0.920005</td>\n",
       "      <td>0.931324</td>\n",
       "      <td>0.008694</td>\n",
       "    </tr>\n",
       "    <tr>\n",
       "      <th>2023-10-18</th>\n",
       "      <td>0.920682</td>\n",
       "      <td>0.927339</td>\n",
       "      <td>0.921371</td>\n",
       "      <td>0.919378</td>\n",
       "      <td>0.008608</td>\n",
       "    </tr>\n",
       "    <tr>\n",
       "      <th>2023-10-19</th>\n",
       "      <td>0.914296</td>\n",
       "      <td>0.920225</td>\n",
       "      <td>0.921371</td>\n",
       "      <td>0.917953</td>\n",
       "      <td>0.010255</td>\n",
       "    </tr>\n",
       "  </tbody>\n",
       "</table>\n",
       "<p>4826 rows × 5 columns</p>\n",
       "</div>"
      ],
      "text/plain": [
       "                Open      High       Low     Close    Volume\n",
       "Date                                                        \n",
       "2004-08-19  0.000136  0.000390  0.000000  0.000056  0.541020\n",
       "2004-08-20  0.000306  0.001233  0.000776  0.001410  0.273840\n",
       "2004-08-23  0.001945  0.001972  0.002236  0.001595  0.217793\n",
       "2004-08-24  0.002027  0.001656  0.001300  0.000825  0.180959\n",
       "2004-08-25  0.000971  0.001051  0.001353  0.001017  0.106788\n",
       "...              ...       ...       ...       ...       ...\n",
       "2023-10-13  0.920211  0.922507  0.916183  0.915306  0.008636\n",
       "2023-10-16  0.912078  0.920024  0.925535  0.927115  0.011746\n",
       "2023-10-17  0.915170  0.921836  0.920005  0.931324  0.008694\n",
       "2023-10-18  0.920682  0.927339  0.921371  0.919378  0.008608\n",
       "2023-10-19  0.914296  0.920225  0.921371  0.917953  0.010255\n",
       "\n",
       "[4826 rows x 5 columns]"
      ]
     },
     "execution_count": 13,
     "metadata": {},
     "output_type": "execute_result"
    }
   ],
   "source": [
    "# Chuẩn hóa Min_Max_Scaler cho từng tập dữ liệu X( đầu vào) \n",
    "from sklearn.preprocessing import MinMaxScaler\n",
    "minmax_scale = MinMaxScaler()\n",
    "minmax_scale.fit(X)\n",
    "# Lưu mô hình chuẩn hóa vào tệp \"minmax_scaler_x.pkl\" bằng pickle\n",
    "import pickle\n",
    "with open(\"../Scaler_data/Scaler_Google.pkl\", \"wb\") as file:\n",
    "    pickle.dump(minmax_scale, file)\n",
    "df_minmax_x = minmax_scale.transform(X)\n",
    "X_normalizier = pd.DataFrame(df_minmax_x, columns=X.columns, index= X.index) # Chuyển lại về dạng df cho dễ nhìn\n",
    "X_normalizier"
   ]
  },
  {
   "cell_type": "code",
   "execution_count": 14,
   "metadata": {},
   "outputs": [],
   "source": [
    "# Chia dữ liệu thành tập huấn luyện và tập kiểm tra\n",
    "X_train, X_test, y_train, y_test = train_test_split(X_normalizier, y, test_size=0.2, random_state=42)"
   ]
  },
  {
   "cell_type": "code",
   "execution_count": 15,
   "metadata": {},
   "outputs": [
    {
     "name": "stdout",
     "output_type": "stream",
     "text": [
      "(3860, 5)\n",
      "(966, 5)\n",
      "(3860,)\n",
      "(966,)\n"
     ]
    }
   ],
   "source": [
    "print(X_train.shape)\n",
    "print(X_test.shape)\n",
    "print(y_train.shape)\n",
    "print(y_test.shape)\n",
    "#kiểm tra độ lớn của dữ liệu sau khi chia"
   ]
  },
  {
   "cell_type": "markdown",
   "metadata": {},
   "source": [
    "# <font color = 'red'>3:Huấn luyện mô hình<font>"
   ]
  },
  {
   "cell_type": "code",
   "execution_count": 16,
   "metadata": {},
   "outputs": [
    {
     "data": {
      "text/html": [
       "<style>#sk-container-id-1 {color: black;background-color: white;}#sk-container-id-1 pre{padding: 0;}#sk-container-id-1 div.sk-toggleable {background-color: white;}#sk-container-id-1 label.sk-toggleable__label {cursor: pointer;display: block;width: 100%;margin-bottom: 0;padding: 0.3em;box-sizing: border-box;text-align: center;}#sk-container-id-1 label.sk-toggleable__label-arrow:before {content: \"▸\";float: left;margin-right: 0.25em;color: #696969;}#sk-container-id-1 label.sk-toggleable__label-arrow:hover:before {color: black;}#sk-container-id-1 div.sk-estimator:hover label.sk-toggleable__label-arrow:before {color: black;}#sk-container-id-1 div.sk-toggleable__content {max-height: 0;max-width: 0;overflow: hidden;text-align: left;background-color: #f0f8ff;}#sk-container-id-1 div.sk-toggleable__content pre {margin: 0.2em;color: black;border-radius: 0.25em;background-color: #f0f8ff;}#sk-container-id-1 input.sk-toggleable__control:checked~div.sk-toggleable__content {max-height: 200px;max-width: 100%;overflow: auto;}#sk-container-id-1 input.sk-toggleable__control:checked~label.sk-toggleable__label-arrow:before {content: \"▾\";}#sk-container-id-1 div.sk-estimator input.sk-toggleable__control:checked~label.sk-toggleable__label {background-color: #d4ebff;}#sk-container-id-1 div.sk-label input.sk-toggleable__control:checked~label.sk-toggleable__label {background-color: #d4ebff;}#sk-container-id-1 input.sk-hidden--visually {border: 0;clip: rect(1px 1px 1px 1px);clip: rect(1px, 1px, 1px, 1px);height: 1px;margin: -1px;overflow: hidden;padding: 0;position: absolute;width: 1px;}#sk-container-id-1 div.sk-estimator {font-family: monospace;background-color: #f0f8ff;border: 1px dotted black;border-radius: 0.25em;box-sizing: border-box;margin-bottom: 0.5em;}#sk-container-id-1 div.sk-estimator:hover {background-color: #d4ebff;}#sk-container-id-1 div.sk-parallel-item::after {content: \"\";width: 100%;border-bottom: 1px solid gray;flex-grow: 1;}#sk-container-id-1 div.sk-label:hover label.sk-toggleable__label {background-color: #d4ebff;}#sk-container-id-1 div.sk-serial::before {content: \"\";position: absolute;border-left: 1px solid gray;box-sizing: border-box;top: 0;bottom: 0;left: 50%;z-index: 0;}#sk-container-id-1 div.sk-serial {display: flex;flex-direction: column;align-items: center;background-color: white;padding-right: 0.2em;padding-left: 0.2em;position: relative;}#sk-container-id-1 div.sk-item {position: relative;z-index: 1;}#sk-container-id-1 div.sk-parallel {display: flex;align-items: stretch;justify-content: center;background-color: white;position: relative;}#sk-container-id-1 div.sk-item::before, #sk-container-id-1 div.sk-parallel-item::before {content: \"\";position: absolute;border-left: 1px solid gray;box-sizing: border-box;top: 0;bottom: 0;left: 50%;z-index: -1;}#sk-container-id-1 div.sk-parallel-item {display: flex;flex-direction: column;z-index: 1;position: relative;background-color: white;}#sk-container-id-1 div.sk-parallel-item:first-child::after {align-self: flex-end;width: 50%;}#sk-container-id-1 div.sk-parallel-item:last-child::after {align-self: flex-start;width: 50%;}#sk-container-id-1 div.sk-parallel-item:only-child::after {width: 0;}#sk-container-id-1 div.sk-dashed-wrapped {border: 1px dashed gray;margin: 0 0.4em 0.5em 0.4em;box-sizing: border-box;padding-bottom: 0.4em;background-color: white;}#sk-container-id-1 div.sk-label label {font-family: monospace;font-weight: bold;display: inline-block;line-height: 1.2em;}#sk-container-id-1 div.sk-label-container {text-align: center;}#sk-container-id-1 div.sk-container {/* jupyter's `normalize.less` sets `[hidden] { display: none; }` but bootstrap.min.css set `[hidden] { display: none !important; }` so we also need the `!important` here to be able to override the default hidden behavior on the sphinx rendered scikit-learn.org. See: https://github.com/scikit-learn/scikit-learn/issues/21755 */display: inline-block !important;position: relative;}#sk-container-id-1 div.sk-text-repr-fallback {display: none;}</style><div id=\"sk-container-id-1\" class=\"sk-top-container\"><div class=\"sk-text-repr-fallback\"><pre>LinearRegression()</pre><b>In a Jupyter environment, please rerun this cell to show the HTML representation or trust the notebook. <br />On GitHub, the HTML representation is unable to render, please try loading this page with nbviewer.org.</b></div><div class=\"sk-container\" hidden><div class=\"sk-item\"><div class=\"sk-estimator sk-toggleable\"><input class=\"sk-toggleable__control sk-hidden--visually\" id=\"sk-estimator-id-1\" type=\"checkbox\" checked><label for=\"sk-estimator-id-1\" class=\"sk-toggleable__label sk-toggleable__label-arrow\">LinearRegression</label><div class=\"sk-toggleable__content\"><pre>LinearRegression()</pre></div></div></div></div></div>"
      ],
      "text/plain": [
       "LinearRegression()"
      ]
     },
     "execution_count": 16,
     "metadata": {},
     "output_type": "execute_result"
    }
   ],
   "source": [
    "# Mô hình hồi quy tuyến tính\n",
    "model = LinearRegression()\n",
    "model.fit(X_train, y_train) # fit chính là hàm đào tạo"
   ]
  },
  {
   "cell_type": "markdown",
   "metadata": {},
   "source": [
    "# <font color=\"red\">4:Đánh giá mô hình</font>"
   ]
  },
  {
   "cell_type": "code",
   "execution_count": 17,
   "metadata": {},
   "outputs": [],
   "source": [
    "from sklearn.metrics import mean_squared_error, r2_score\n",
    "#mean_squared_error càng thấp(về 0) càng tốt\n",
    "#r2_score càng cao càng tốt"
   ]
  },
  {
   "cell_type": "code",
   "execution_count": 18,
   "metadata": {},
   "outputs": [],
   "source": [
    "y_pred = model.predict(X_test) #dự báo y_pred dựa trên tập x_test\n",
    "y_pred_train = model.predict(X_train)\n",
    "# Đánh giá mô hình bằng một số các metric, gói gọn vào 1 hàm để sử dụng ở phần sau\n",
    "def rate(y_test, y_pred,y_train,y_pred_train):\n",
    "    print('--------Kết quả trên dữ liệu huấn luyện-------')\n",
    "    mse_train = mean_squared_error(y_train, y_pred_train)\n",
    "    r2_train = r2_score(y_train, y_pred_train)\n",
    "\n",
    "    print(\"Mean Squared Error (MSE):\", mse_train)\n",
    "    print(\"R-squared (R2) Score:\", r2_train)\n",
    "\n",
    "    print('--------Kết quả thẩm định-------')\n",
    "    mse = mean_squared_error(y_test, y_pred)\n",
    "    r2 = r2_score(y_test, y_pred)\n",
    "\n",
    "    print(\"Mean Squared Error (MSE):\", mse)\n",
    "    print(\"R-squared (R2) Score:\", r2)"
   ]
  },
  {
   "cell_type": "code",
   "execution_count": 19,
   "metadata": {},
   "outputs": [
    {
     "name": "stdout",
     "output_type": "stream",
     "text": [
      "--------Kết quả trên dữ liệu huấn luyện-------\n",
      "Mean Squared Error (MSE): 9.080233519733445e-29\n",
      "R-squared (R2) Score: 1.0\n",
      "--------Kết quả thẩm định-------\n",
      "Mean Squared Error (MSE): 8.775873414034786e-29\n",
      "R-squared (R2) Score: 1.0\n"
     ]
    }
   ],
   "source": [
    "rate(y_test, y_pred,y_train,y_pred_train)"
   ]
  },
  {
   "cell_type": "code",
   "execution_count": 20,
   "metadata": {},
   "outputs": [
    {
     "name": "stdout",
     "output_type": "stream",
     "text": [
      "Date\n",
      "2006-12-19    11.727477\n",
      "2011-01-21    15.311061\n",
      "2008-04-09    11.616366\n",
      "2011-08-26    13.184685\n",
      "2022-12-09    92.830002\n",
      "                ...    \n",
      "2020-10-20    77.554001\n",
      "2006-05-08     9.879379\n",
      "2012-06-07    14.470220\n",
      "2005-10-11     7.660160\n",
      "2014-11-03    28.188499\n",
      "Name: Adj Close, Length: 966, dtype: float64\n"
     ]
    }
   ],
   "source": [
    "print(y_test)"
   ]
  },
  {
   "cell_type": "code",
   "execution_count": 21,
   "metadata": {},
   "outputs": [
    {
     "name": "stdout",
     "output_type": "stream",
     "text": [
      "[ 11.72747707  15.31106091  11.61636639  13.18468475  92.83000183\n",
      "  94.62799835  15.80955982  10.37262344 119.51000214 113.91750336\n",
      "  36.68099976   9.46396446  57.0644989  101.2365036   86.19999695\n",
      "   9.77202225  13.87712669  27.29450035  27.22550011  56.02700043\n",
      "   7.72197199   2.56181192 107.51000214  41.92549896  52.72900009\n",
      "   9.86411381 111.77749634  25.29649925  17.59784889  61.40000153\n",
      "  53.76549911  11.98999023  13.38738728  11.61336327  25.20050049\n",
      " 138.66949463   4.39439392  37.9734993  102.72200012   9.491992\n",
      "  10.13163185  11.78979015  33.5          2.96246195  89.87000275\n",
      "  25.81456566  16.72947884  11.76201153  38.08000183 142.97149658\n",
      "  26.45599937  14.0405407   47.42250061   8.10485458   7.01351404\n",
      "   4.84334278  76.7559967   15.57857895   6.56731701  55.32500076\n",
      "  88.05400085  29.43149948  12.91341305  15.51826763  62.15000153\n",
      " 117.30000305 107.33999634  26.45996094  38.21649933  15.25925922\n",
      "  29.62100029  15.214715    38.04000092  18.56331253  56.79850006\n",
      "   7.75525522  11.76976967   3.43042994  56.99549866  38.00450134\n",
      "  14.71946907  28.74349976  13.19544506  14.1696701   27.23749924\n",
      "  63.23249817  58.43899918  20.53128052  10.23098087 136.16999817\n",
      "  13.87137127  39.82949829  27.50200081   8.11861897  11.46871853\n",
      " 139.1000061   28.32757759  13.33058071   7.58758783  95.65000153\n",
      "  12.46671677  13.53678703  10.82582569   9.96371365  12.9001503\n",
      "  38.80899811   7.53728724  10.85735703   4.29554605 132.58000183\n",
      "  14.80230236   7.53178215  13.42442417  14.8418417   12.19194221\n",
      "  50.25899887   8.50600624   8.43493462  10.54704666   9.53378391\n",
      "  74.17299652  12.03203201   9.78228188  21.94869995  19.8966465\n",
      "  16.04704666  27.47450066  58.04199982   9.39714718 123.76000214\n",
      "  26.93250084  13.58959007  49.38999939   4.23923922   7.52977991\n",
      "  11.63488483 116.58300018  16.93693733  30.0814991  100.98999786\n",
      "  88.89299774  75.60449982  11.92167187  26.93849945   9.69719696\n",
      "  52.06000137  21.80230141  14.92542458  81.97149658  10.72072124\n",
      "  62.29700089  10.88863945  11.33533478  27.42700005  56.63550186\n",
      "  64.44300079 122.53600311   5.68018007  38.58750153  27.76449966\n",
      "  13.1536541   18.51826859  27.79750061   9.79654694 117.20999908\n",
      "  15.60035038  27.98399925  86.72799683  39.          88.90000153\n",
      "   9.47872925  11.68418407  13.13413429  16.94644547  18.85535431\n",
      "  17.80080032  15.43718719  47.37749863   4.70445395  61.32649994\n",
      "   8.30830765  73.1989975  105.97000122  10.05755806  12.83633614\n",
      "  11.26776791  26.14850044  37.99700165  53.41849899  60.30950165\n",
      " 114.44499969  10.45895863  10.16291332  52.66999817  14.68393421\n",
      "   9.43293285  15.58758831  10.2517519   12.45170212  11.46546459\n",
      " 115.67649841  55.71049881  39.62250137  10.06406403  29.55550003\n",
      " 114.10949707  50.25350189  17.8993988   21.8631134   11.79629612\n",
      " 116.62999725  44.5719986   48.79800034  47.33250046  47.01499939\n",
      "   7.83258295  16.36186218 125.9509964   12.24874878   4.71896887\n",
      "  37.6609993    7.25024986  29.18549919  75.9315033   34.7594986\n",
      "  42.82550049  72.30249786   2.54204202  51.93700027  28.13150024\n",
      "  54.20399857  35.73550034  14.07357407  10.18193245  11.1431427\n",
      "  17.36336327 117.84249878  17.25951004   4.82382393  54.55049896\n",
      "  22.53803825  66.96250153  14.42142105  12.34659672   2.95945907\n",
      "  27.64999962 105.34999847  55.21049881  15.18994045 107.90000153\n",
      " 141.05149841 133.01499939   8.90065098  53.57049942  50.34700012\n",
      "  38.83499908  20.89139175   6.85710716  13.88888931  12.0565567\n",
      " 100.57050323  29.03153229  14.56056118  21.76651764 141.67300415\n",
      "  57.21149826  32.98450089  13.88988972  35.30649948   4.48923922\n",
      " 141.36799622  22.33883858  14.88838768  15.19369411  56.37950134\n",
      "  28.92000008  41.49300003  13.66416359 100.05000305  64.86049652\n",
      "  27.96450043   4.43243217 127.10449982   9.54629612  27.36650085\n",
      " 123.52999878  11.89189243  19.56781769 121.8125      13.76626587\n",
      "   8.48773766  14.13113117  59.94900131  57.59349823   5.66040993\n",
      "  27.32999992  51.63600159  25.62150002  13.72847843  42.46350098\n",
      "  14.51451492  56.43149948  14.99975014  53.2234993   54.89550018\n",
      "  52.38600159  40.34199905  49.57099915   9.08533478  76.17549896\n",
      "  28.68000031  27.13249969  20.71096039  11.6599102   78.77850342\n",
      " 112.3164978   21.92417336  36.96900177  10.55430412  28.52799988\n",
      "  14.71045971  36.5984993  127.58799744  14.95545483  11.66791821\n",
      " 116.47299957   3.51576591  21.6766777   42.10499954  74.84100342\n",
      " 125.51850128  27.80550003  13.08058071  11.26626587  55.81399918\n",
      " 115.74649811  27.68799973  10.52302265   8.12562561  15.37262344\n",
      " 141.60699463  37.38000107   9.07432365 130.80400085   8.2597599\n",
      "  40.13199997  60.35400009  10.78678703   4.85285282  34.76750183\n",
      "  25.49699974  41.0094986   12.53353405  58.96049881  11.98723698\n",
      "   9.81581593  13.68493462  16.74749756  58.94300079  11.8868866\n",
      "  29.16799927  10.59759808  81.47650146  31.9185009   26.30500031\n",
      "  55.86650085  21.19369316  12.96946907  25.66441345  40.22999954\n",
      "  60.27700043  13.17041969  46.76449966  10.38938904  15.28578568\n",
      " 113.12349701   7.28853893  15.48048019   7.44344282 131.00999451\n",
      "  99.62999725  15.42642593  13.01601601  17.12237167  57.31549835\n",
      "   4.67993021 126.97000122  96.98000336  87.63200378  14.58983994\n",
      "  26.63699913 112.51100159  15.73448372   3.24324298  29.11800003\n",
      "  14.47922897  15.03478527  20.3463459   55.          11.35986042\n",
      "   9.7437439   36.27050018  73.3010025   28.89699936 102.0664978\n",
      "  17.38663673  88.73999786   8.24549484  14.67092133  49.91550064\n",
      " 109.76450348  18.86061096 136.09399414  39.56499863  13.31331253\n",
      " 146.68699646 120.11000061  13.49349308  60.22100067  51.82500076\n",
      "  47.52199936   8.95995998  11.8030529    7.00675678  39.84349823\n",
      "  12.71521473 105.56999969  74.35199738   4.62637615   7.48723698\n",
      "  40.13750076 135.77000427  14.8030529   65.28199768  15.38988972\n",
      "  11.55855942  27.43849945  12.0935936   58.55899811  51.48550034\n",
      "   4.53078079 104.11100006  18.80580521  18.07707787  52.57550049\n",
      "  11.52352428  27.82382393  31.21249962  12.60535526  14.10260296\n",
      "  28.41316223   4.54955006  10.95245171  11.76926899  58.72499847\n",
      "  14.82007027  11.5017519    9.85210228  20.05005074  13.0387888\n",
      "  13.26351357 135.67999268  97.18000031  24.90800095  10.59059143\n",
      "  21.86261368  58.97800064  12.12662697  12.67792797  12.06581593\n",
      "  21.6571579   17.97847748  11.56856918  62.11449814  40.89450073\n",
      "   4.54004002  13.27277279  59.51499939  12.08208179  60.91650009\n",
      "  15.03979015  52.22850037   9.44194221  49.6155014  122.50849915\n",
      "  15.25825787  12.73773766  59.07949829  38.4034996    7.56756783\n",
      "  13.18268299  33.06399918  27.33349991 132.69099426  13.14189243\n",
      "  58.45949936 118.33000183  59.4715004   15.40215206  10.23398399\n",
      " 146.11999512  30.02752876  12.9514513   40.04700089  39.86249924\n",
      " 119.63800049   4.47897911   4.82457495   2.79004002  14.42142105\n",
      "  10.9982481   72.09999847  11.58658695  17.05905914  27.53100014\n",
      " 124.8144989    9.92517471   9.23623562   7.20120096  47.93450165\n",
      "   9.23198223  14.51401424  31.47800064  27.77249908  11.07607555\n",
      "  30.31957054 114.02050018  38.48350143  27.37400055  14.46846771\n",
      "   8.95895863  90.5664978   68.46399689  28.19000053  86.87149811\n",
      "  25.58333206   6.49549484 125.41999817  57.44449997  40.49200058\n",
      "  29.85549927   4.90565586  58.60599899  62.87149811  34.76599884\n",
      "  10.04604626  37.85400009  10.91691685   9.39889908  59.15950012\n",
      " 111.45200348  29.7562561   50.38550186 134.03500366  75.18000031\n",
      "  75.83249664  33.22800064  72.93299866  13.61511517 111.48750305\n",
      "   4.79429388  19.65390396  27.87599945 122.76000214  12.72197247\n",
      "   4.63413382  16.5167675   15.04429436 114.99649811  11.38938904\n",
      "  11.69894886   9.48323345  60.54800034  36.51499939  29.62700081\n",
      "  72.55449677  12.06506538   7.13463497  40.13949966  14.76101112\n",
      "   4.68969011  13.19244194  67.14949799  17.47672653 137.36000061\n",
      "  12.4099102   37.72050095  65.09300232   6.44244194  54.95600128\n",
      "  21.75500488 135.25999451  38.53850174 128.57000732  69.52349854\n",
      "  26.98900032  90.88999939  10.24424362  12.72772789  88.07099915\n",
      "   7.70545483 101.80950165  12.61962032  71.70600128 100.375\n",
      "  14.12287331  72.05500031  15.71946907  21.82132149  22.34884834\n",
      "  58.58000183  89.12999725  20.02277374   8.72497463  12.79779816\n",
      "  46.7140007   14.19219208  10.9629631  117.13999939  16.90540504\n",
      "  13.37887859  15.52452469  58.66600037  26.35785866  40.13249969\n",
      "  57.40950012 146.91650391  94.94000244   8.56806755  10.24249172\n",
      "  67.33499908  28.10260391 137.74749756  13.31056118   8.65890884\n",
      "  12.67192173  10.37036991  13.39589596 148.          11.66616631\n",
      "  12.30580616 104.69000244  28.93443489  55.87549973   5.50550604\n",
      "  17.43468475  12.67217159   4.31506491  77.23049927  11.68193245\n",
      "  55.25899887  14.68368435 113.50299835  13.7887888  103.37000275\n",
      "  16.19569588  28.28428459  69.31600189  22.19719696  14.53778839\n",
      "  58.6875      58.29650116  34.70550156  17.43943977  75.93299866\n",
      "  88.71700287  18.34184265  33.66450119  38.42549896 143.73950195\n",
      " 110.01249695  55.36500168 136.25149536 135.52600098  32.65999985\n",
      "  14.98198223  37.24250031  58.47200012  36.07300186  14.47947884\n",
      "  13.25425434  11.75575638 110.86000061  26.85135078  61.08750153\n",
      "  29.38899994   9.88563633  38.40999985 138.21000671  53.54249954\n",
      "  57.79600143  11.13113117  68.43399811  64.5719986   35.9280014\n",
      "   2.85210204  46.30899811  70.46949768  14.80230236  15.45995998\n",
      " 148.92649841   9.29179192 118.65000153  14.4902401   38.9109993\n",
      "  55.63000107 111.54399872  36.86949921  26.49150085  37.76549911\n",
      " 142.21499634  28.39349937  12.1148653    7.16491508  67.73200226\n",
      "  21.72947884  75.52249908  17.05530548  15.42642593 119.67849731\n",
      "  12.88788795  21.77702713  27.22649956  42.49000168   9.47172165\n",
      "   9.22797775  10.14914894  10.84459496  11.83183193  16.00675774\n",
      "  71.14299774 123.15000153  12.89414406  12.91916943  59.86899948\n",
      " 139.03300476  44.45700073  49.5929985  120.16999817  46.90399933\n",
      "  88.01999664  27.16699982  55.10499954   7.43868923  41.08100128\n",
      "  27.12899971  11.90840816  71.74349976  16.16741753  15.02502537\n",
      "  40.59899902  48.44250107  13.53403378  14.58959007   6.93868923\n",
      "  56.40449905  13.54004002  11.90765762  11.56206226 119.05899811\n",
      "  57.65200043  39.01449966  16.29154205   4.37337303  12.48223209\n",
      "  13.59309292   4.84259319  26.53650093   4.53828812  54.2215004\n",
      "  32.98300171  10.63163185  14.80905914 136.91299438  39.57350159\n",
      "  11.91541481  10.06331253  22.75225258   7.86586618  51.32749939\n",
      "  11.71246243  11.48898888   9.49549484 144.0039978   38.25600052\n",
      "  39.10950089 140.15049744  80.33300018  56.46900177  70.2519989\n",
      "   4.48573589  12.43743706  22.17842865  29.08200073  17.21521568\n",
      "  15.70120144   9.67267323  72.40200043  55.65999985  39.52299881\n",
      "  87.3615036   25.70170212   7.29754782 118.19000244  52.42350006\n",
      "  22.21596527  14.9081583   12.48098087   6.40640593  62.79199982\n",
      "  52.58549881 124.61000061  65.74749756  28.97722626  17.58508492\n",
      "  12.17092133  39.42399979  16.91116142  75.18250275  10.40465546\n",
      "  29.18700027  28.6060009   62.43199921  58.38199997  29.5284996\n",
      "  14.43068123   4.88138103  20.05555534  48.23049927 119.09999847\n",
      "   6.39264297  25.40540504  11.85560608  13.64664745  28.41500092\n",
      "  27.33200073  71.50700378  35.86249924  14.34434414  22.29529572\n",
      "  38.1269989   57.5304985  143.08999634  12.70095062  16.66341209\n",
      "  14.98173237  15.32382393  40.26150131  15.75675678  63.61249924\n",
      "  15.58383369  55.26200104  86.54599762  15.89464474   4.67892885\n",
      "  29.15465546  12.47922897 117.14949799 105.53500366  11.02352428\n",
      "   4.86736679  26.92650032  55.12200165  13.26176167  25.7862854\n",
      " 132.36999512   4.2655158   16.88188171  33.39799881   9.25375366\n",
      "  51.73300171  98.63999939  40.3995018   38.95000076  33.27600098\n",
      "  40.7480011    4.4937439   62.06000137  62.93999863   7.43518496\n",
      "  39.98899841 122.08000183  26.75399971  72.83499908   9.32282257\n",
      "  13.73873901  10.50925922  27.28899956 147.26950073  94.34999847\n",
      "  28.52249908 135.24000549   3.37987995  27.70070076  16.13388443\n",
      "  63.95000076  66.88600159  14.25150204 101.12999725   9.75725746\n",
      "  25.59434319  13.9514513  138.71949768  10.18143082  52.5984993\n",
      "  15.86536503 144.99150085  60.65399933   9.22797775   9.45820808\n",
      " 140.55000305   5.72372389   7.07582617  10.20995998  43.41949844\n",
      " 101.63999939  43.07049942  15.26276302  97.45999908   9.50150204\n",
      "  47.20949936  12.64639568  12.29579639   4.95745707  57.25849915\n",
      "  62.00149918  82.28299713  50.09199905  17.53578568  70.99299622\n",
      "  26.9015007   11.47697735  18.91116142 101.06700134   7.2032032\n",
      "  40.53649902   4.50650692  55.51300049  95.69999695  57.10549927\n",
      "  11.65615559  27.87750053  14.22021961   8.14013958  15.16791821\n",
      "  12.24474525  12.27702713  13.15565586  10.91266346  55.50699997\n",
      "  11.84259319  17.12112045  60.60950089 100.43000031  14.45170212\n",
      "  27.45999908  89.89150238  14.52877903  55.83950043   8.29529476\n",
      "   5.70620584  77.55400085   9.87937927  14.47021961   7.66016006\n",
      "  28.18849945]\n"
     ]
    }
   ],
   "source": [
    "print(y_pred)"
   ]
  },
  {
   "cell_type": "code",
   "execution_count": 22,
   "metadata": {},
   "outputs": [
    {
     "data": {
      "text/html": [
       "<div>\n",
       "<style scoped>\n",
       "    .dataframe tbody tr th:only-of-type {\n",
       "        vertical-align: middle;\n",
       "    }\n",
       "\n",
       "    .dataframe tbody tr th {\n",
       "        vertical-align: top;\n",
       "    }\n",
       "\n",
       "    .dataframe thead th {\n",
       "        text-align: right;\n",
       "    }\n",
       "</style>\n",
       "<table border=\"1\" class=\"dataframe\">\n",
       "  <thead>\n",
       "    <tr style=\"text-align: right;\">\n",
       "      <th></th>\n",
       "      <th>Actual</th>\n",
       "      <th>Predicted</th>\n",
       "    </tr>\n",
       "    <tr>\n",
       "      <th>Date</th>\n",
       "      <th></th>\n",
       "      <th></th>\n",
       "    </tr>\n",
       "  </thead>\n",
       "  <tbody>\n",
       "    <tr>\n",
       "      <th>2006-12-19</th>\n",
       "      <td>11.727477</td>\n",
       "      <td>11.727477</td>\n",
       "    </tr>\n",
       "    <tr>\n",
       "      <th>2011-01-21</th>\n",
       "      <td>15.311061</td>\n",
       "      <td>15.311061</td>\n",
       "    </tr>\n",
       "    <tr>\n",
       "      <th>2008-04-09</th>\n",
       "      <td>11.616366</td>\n",
       "      <td>11.616366</td>\n",
       "    </tr>\n",
       "    <tr>\n",
       "      <th>2011-08-26</th>\n",
       "      <td>13.184685</td>\n",
       "      <td>13.184685</td>\n",
       "    </tr>\n",
       "    <tr>\n",
       "      <th>2022-12-09</th>\n",
       "      <td>92.830002</td>\n",
       "      <td>92.830002</td>\n",
       "    </tr>\n",
       "    <tr>\n",
       "      <th>2021-01-22</th>\n",
       "      <td>94.627998</td>\n",
       "      <td>94.627998</td>\n",
       "    </tr>\n",
       "    <tr>\n",
       "      <th>2011-01-19</th>\n",
       "      <td>15.809560</td>\n",
       "      <td>15.809560</td>\n",
       "    </tr>\n",
       "    <tr>\n",
       "      <th>2008-09-17</th>\n",
       "      <td>10.372623</td>\n",
       "      <td>10.372623</td>\n",
       "    </tr>\n",
       "    <tr>\n",
       "      <th>2023-05-16</th>\n",
       "      <td>119.510002</td>\n",
       "      <td>119.510002</td>\n",
       "    </tr>\n",
       "    <tr>\n",
       "      <th>2021-04-21</th>\n",
       "      <td>113.917503</td>\n",
       "      <td>113.917503</td>\n",
       "    </tr>\n",
       "  </tbody>\n",
       "</table>\n",
       "</div>"
      ],
      "text/plain": [
       "                Actual   Predicted\n",
       "Date                              \n",
       "2006-12-19   11.727477   11.727477\n",
       "2011-01-21   15.311061   15.311061\n",
       "2008-04-09   11.616366   11.616366\n",
       "2011-08-26   13.184685   13.184685\n",
       "2022-12-09   92.830002   92.830002\n",
       "2021-01-22   94.627998   94.627998\n",
       "2011-01-19   15.809560   15.809560\n",
       "2008-09-17   10.372623   10.372623\n",
       "2023-05-16  119.510002  119.510002\n",
       "2021-04-21  113.917503  113.917503"
      ]
     },
     "execution_count": 22,
     "metadata": {},
     "output_type": "execute_result"
    }
   ],
   "source": [
    "df_result = pd.DataFrame({'Actual':y_test, 'Predicted': y_pred})\n",
    "df_compare = df_result.head(10)\n",
    "df_compare\n",
    "#so sánh dữ liệu thực tế với dự đoán"
   ]
  },
  {
   "cell_type": "code",
   "execution_count": 23,
   "metadata": {},
   "outputs": [
    {
     "data": {
      "text/plain": [
       "<Axes: xlabel='Date'>"
      ]
     },
     "execution_count": 23,
     "metadata": {},
     "output_type": "execute_result"
    },
    {
     "data": {
      "image/png": "[encoded data removed]",
      "text/plain": [
       "<Figure size 640x480 with 1 Axes>"
      ]
     },
     "metadata": {},
     "output_type": "display_data"
    }
   ],
   "source": [
    "df_compare.plot(kind='line')\n",
    "# lập biểu đồ độ để dễ đánh giá"
   ]
  },
  {
   "cell_type": "markdown",
   "metadata": {},
   "source": [
    "### <font color = \"green\"> Ta thấy mô hình quá tốt<font>"
   ]
  },
  {
   "cell_type": "markdown",
   "metadata": {},
   "source": [
    "# <font color=\"red\">5:Lưu mô hình</font>"
   ]
  },
  {
   "cell_type": "markdown",
   "metadata": {},
   "source": [
    "Ta đang triển khai mô hình trong biến model"
   ]
  },
  {
   "cell_type": "code",
   "execution_count": 24,
   "metadata": {},
   "outputs": [],
   "source": [
    "import pickle\n",
    "# Tải mô hình từ file\n",
    "with open('../Model_data/Google.pkl', 'wb') as model_file:\n",
    "    pickle.dump(model, model_file)"
   ]
  }
 ],
 "metadata": {
  "kernelspec": {
   "display_name": "anhkun",
   "language": "python",
   "name": "python3"
  },
  "language_info": {
   "codemirror_mode": {
    "name": "ipython",
    "version": 3
   },
   "file_extension": ".py",
   "mimetype": "text/x-python",
   "name": "python",
   "nbconvert_exporter": "python",
   "pygments_lexer": "ipython3",
   "version": "3.8.16"
  }
 },
 "nbformat": 4,
 "nbformat_minor": 2
}
