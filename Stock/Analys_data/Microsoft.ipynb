{
 "cells": [
  {
   "cell_type": "markdown",
   "metadata": {},
   "source": [
    "# <font color=\"red\">B0:Cài đặt thư viện và import </font>\n",
    "- pip install pandas <br>\n",
    "- pip install numpy <br>\n",
    "- pip install matplotlib <br>\n",
    "- pip install scikit-learn (sklearn) <br>\n",
    "- pip install pickle (nếu lỗi version thì pip install pickle5) <br>\n",
    "- pip install yfinance (data về chứng khoán) <br>"
   ]
  },
  {
   "cell_type": "code",
   "execution_count": 1,
   "metadata": {},
   "outputs": [],
   "source": [
    "import yfinance as yf\n",
    "import pandas as pd\n",
    "import numpy as np\n",
    "import matplotlib.pyplot as plt\n",
    "from sklearn.model_selection import train_test_split\n",
    "from sklearn.linear_model import LinearRegression\n",
    "from sklearn.metrics import mean_squared_error\n"
   ]
  },
  {
   "cell_type": "markdown",
   "metadata": {},
   "source": [
    "# <font color=\"red\">B1:Đọc DATA và khám phá dữ liệu ( Công ty Microsoft) </font>"
   ]
  },
  {
   "cell_type": "code",
   "execution_count": 2,
   "metadata": {},
   "outputs": [
    {
     "name": "stdout",
     "output_type": "stream",
     "text": [
      "[*********************100%%**********************]  1 of 1 completed\n"
     ]
    }
   ],
   "source": [
    "# Ticker symbol của cổ phiếu bạn muốn dự đoán\n",
    "ticker_symbol = 'MSFT'\n",
    "\n",
    "# Lấy dữ liệu lịch sử giá cổ phiếu\n",
    "stock_data = yf.download(ticker_symbol, start='2003-10-20', end='2023-10-20')\n"
   ]
  },
  {
   "cell_type": "code",
   "execution_count": 3,
   "metadata": {},
   "outputs": [
    {
     "data": {
      "text/html": [
       "<div>\n",
       "<style scoped>\n",
       "    .dataframe tbody tr th:only-of-type {\n",
       "        vertical-align: middle;\n",
       "    }\n",
       "\n",
       "    .dataframe tbody tr th {\n",
       "        vertical-align: top;\n",
       "    }\n",
       "\n",
       "    .dataframe thead th {\n",
       "        text-align: right;\n",
       "    }\n",
       "</style>\n",
       "<table border=\"1\" class=\"dataframe\">\n",
       "  <thead>\n",
       "    <tr style=\"text-align: right;\">\n",
       "      <th></th>\n",
       "      <th>Open</th>\n",
       "      <th>High</th>\n",
       "      <th>Low</th>\n",
       "      <th>Close</th>\n",
       "      <th>Adj Close</th>\n",
       "      <th>Volume</th>\n",
       "    </tr>\n",
       "    <tr>\n",
       "      <th>Date</th>\n",
       "      <th></th>\n",
       "      <th></th>\n",
       "      <th></th>\n",
       "      <th></th>\n",
       "      <th></th>\n",
       "      <th></th>\n",
       "    </tr>\n",
       "  </thead>\n",
       "  <tbody>\n",
       "    <tr>\n",
       "      <th>2003-10-20</th>\n",
       "      <td>28.950001</td>\n",
       "      <td>29.370001</td>\n",
       "      <td>28.799999</td>\n",
       "      <td>29.350000</td>\n",
       "      <td>18.394114</td>\n",
       "      <td>38794500</td>\n",
       "    </tr>\n",
       "    <tr>\n",
       "      <th>2003-10-21</th>\n",
       "      <td>29.350000</td>\n",
       "      <td>29.430000</td>\n",
       "      <td>29.170000</td>\n",
       "      <td>29.350000</td>\n",
       "      <td>18.394114</td>\n",
       "      <td>44166800</td>\n",
       "    </tr>\n",
       "    <tr>\n",
       "      <th>2003-10-22</th>\n",
       "      <td>29.030001</td>\n",
       "      <td>29.209999</td>\n",
       "      <td>28.799999</td>\n",
       "      <td>28.889999</td>\n",
       "      <td>18.105824</td>\n",
       "      <td>48798500</td>\n",
       "    </tr>\n",
       "    <tr>\n",
       "      <th>2003-10-23</th>\n",
       "      <td>28.719999</td>\n",
       "      <td>29.080000</td>\n",
       "      <td>28.100000</td>\n",
       "      <td>28.910000</td>\n",
       "      <td>18.118355</td>\n",
       "      <td>67357900</td>\n",
       "    </tr>\n",
       "    <tr>\n",
       "      <th>2003-10-24</th>\n",
       "      <td>27.270000</td>\n",
       "      <td>27.400000</td>\n",
       "      <td>26.420000</td>\n",
       "      <td>26.610001</td>\n",
       "      <td>16.676908</td>\n",
       "      <td>210558300</td>\n",
       "    </tr>\n",
       "    <tr>\n",
       "      <th>...</th>\n",
       "      <td>...</td>\n",
       "      <td>...</td>\n",
       "      <td>...</td>\n",
       "      <td>...</td>\n",
       "      <td>...</td>\n",
       "      <td>...</td>\n",
       "    </tr>\n",
       "    <tr>\n",
       "      <th>2023-10-13</th>\n",
       "      <td>332.380005</td>\n",
       "      <td>333.829987</td>\n",
       "      <td>326.359985</td>\n",
       "      <td>327.730011</td>\n",
       "      <td>327.730011</td>\n",
       "      <td>21072400</td>\n",
       "    </tr>\n",
       "    <tr>\n",
       "      <th>2023-10-16</th>\n",
       "      <td>331.049988</td>\n",
       "      <td>336.140015</td>\n",
       "      <td>330.600006</td>\n",
       "      <td>332.640015</td>\n",
       "      <td>332.640015</td>\n",
       "      <td>22158000</td>\n",
       "    </tr>\n",
       "    <tr>\n",
       "      <th>2023-10-17</th>\n",
       "      <td>329.589996</td>\n",
       "      <td>333.459991</td>\n",
       "      <td>327.410004</td>\n",
       "      <td>332.059998</td>\n",
       "      <td>332.059998</td>\n",
       "      <td>18338500</td>\n",
       "    </tr>\n",
       "    <tr>\n",
       "      <th>2023-10-18</th>\n",
       "      <td>332.489990</td>\n",
       "      <td>335.589996</td>\n",
       "      <td>328.299988</td>\n",
       "      <td>330.109985</td>\n",
       "      <td>330.109985</td>\n",
       "      <td>23153600</td>\n",
       "    </tr>\n",
       "    <tr>\n",
       "      <th>2023-10-19</th>\n",
       "      <td>332.149994</td>\n",
       "      <td>336.880005</td>\n",
       "      <td>330.910004</td>\n",
       "      <td>331.320007</td>\n",
       "      <td>331.320007</td>\n",
       "      <td>25052100</td>\n",
       "    </tr>\n",
       "  </tbody>\n",
       "</table>\n",
       "<p>5035 rows × 6 columns</p>\n",
       "</div>"
      ],
      "text/plain": [
       "                  Open        High         Low       Close   Adj Close   \n",
       "Date                                                                     \n",
       "2003-10-20   28.950001   29.370001   28.799999   29.350000   18.394114  \\\n",
       "2003-10-21   29.350000   29.430000   29.170000   29.350000   18.394114   \n",
       "2003-10-22   29.030001   29.209999   28.799999   28.889999   18.105824   \n",
       "2003-10-23   28.719999   29.080000   28.100000   28.910000   18.118355   \n",
       "2003-10-24   27.270000   27.400000   26.420000   26.610001   16.676908   \n",
       "...                ...         ...         ...         ...         ...   \n",
       "2023-10-13  332.380005  333.829987  326.359985  327.730011  327.730011   \n",
       "2023-10-16  331.049988  336.140015  330.600006  332.640015  332.640015   \n",
       "2023-10-17  329.589996  333.459991  327.410004  332.059998  332.059998   \n",
       "2023-10-18  332.489990  335.589996  328.299988  330.109985  330.109985   \n",
       "2023-10-19  332.149994  336.880005  330.910004  331.320007  331.320007   \n",
       "\n",
       "               Volume  \n",
       "Date                   \n",
       "2003-10-20   38794500  \n",
       "2003-10-21   44166800  \n",
       "2003-10-22   48798500  \n",
       "2003-10-23   67357900  \n",
       "2003-10-24  210558300  \n",
       "...               ...  \n",
       "2023-10-13   21072400  \n",
       "2023-10-16   22158000  \n",
       "2023-10-17   18338500  \n",
       "2023-10-18   23153600  \n",
       "2023-10-19   25052100  \n",
       "\n",
       "[5035 rows x 6 columns]"
      ]
     },
     "execution_count": 3,
     "metadata": {},
     "output_type": "execute_result"
    }
   ],
   "source": [
    "stock_data"
   ]
  },
  {
   "cell_type": "code",
   "execution_count": 4,
   "metadata": {},
   "outputs": [
    {
     "name": "stdout",
     "output_type": "stream",
     "text": [
      "<class 'pandas.core.frame.DataFrame'>\n",
      "DatetimeIndex: 5035 entries, 2003-10-20 to 2023-10-19\n",
      "Data columns (total 6 columns):\n",
      " #   Column     Non-Null Count  Dtype  \n",
      "---  ------     --------------  -----  \n",
      " 0   Open       5035 non-null   float64\n",
      " 1   High       5035 non-null   float64\n",
      " 2   Low        5035 non-null   float64\n",
      " 3   Close      5035 non-null   float64\n",
      " 4   Adj Close  5035 non-null   float64\n",
      " 5   Volume     5035 non-null   int64  \n",
      "dtypes: float64(5), int64(1)\n",
      "memory usage: 275.4 KB\n"
     ]
    }
   ],
   "source": [
    "stock_data.info()"
   ]
  },
  {
   "cell_type": "code",
   "execution_count": 5,
   "metadata": {},
   "outputs": [
    {
     "data": {
      "text/plain": [
       "Index(['Open', 'High', 'Low', 'Close', 'Adj Close', 'Volume'], dtype='object')"
      ]
     },
     "execution_count": 5,
     "metadata": {},
     "output_type": "execute_result"
    }
   ],
   "source": [
    "stock_data.keys()\n",
    "# Những feature của tập dữ liệu"
   ]
  },
  {
   "cell_type": "code",
   "execution_count": 6,
   "metadata": {},
   "outputs": [
    {
     "data": {
      "text/html": [
       "<div>\n",
       "<style scoped>\n",
       "    .dataframe tbody tr th:only-of-type {\n",
       "        vertical-align: middle;\n",
       "    }\n",
       "\n",
       "    .dataframe tbody tr th {\n",
       "        vertical-align: top;\n",
       "    }\n",
       "\n",
       "    .dataframe thead th {\n",
       "        text-align: right;\n",
       "    }\n",
       "</style>\n",
       "<table border=\"1\" class=\"dataframe\">\n",
       "  <thead>\n",
       "    <tr style=\"text-align: right;\">\n",
       "      <th></th>\n",
       "      <th>Open</th>\n",
       "      <th>High</th>\n",
       "      <th>Low</th>\n",
       "      <th>Close</th>\n",
       "      <th>Adj Close</th>\n",
       "      <th>Volume</th>\n",
       "    </tr>\n",
       "  </thead>\n",
       "  <tbody>\n",
       "    <tr>\n",
       "      <th>count</th>\n",
       "      <td>5035.000000</td>\n",
       "      <td>5035.000000</td>\n",
       "      <td>5035.000000</td>\n",
       "      <td>5035.000000</td>\n",
       "      <td>5035.000000</td>\n",
       "      <td>5.035000e+03</td>\n",
       "    </tr>\n",
       "    <tr>\n",
       "      <th>mean</th>\n",
       "      <td>85.317498</td>\n",
       "      <td>86.172647</td>\n",
       "      <td>84.447170</td>\n",
       "      <td>85.342371</td>\n",
       "      <td>79.371501</td>\n",
       "      <td>4.703265e+07</td>\n",
       "    </tr>\n",
       "    <tr>\n",
       "      <th>std</th>\n",
       "      <td>90.518917</td>\n",
       "      <td>91.473685</td>\n",
       "      <td>89.529900</td>\n",
       "      <td>90.542409</td>\n",
       "      <td>91.715817</td>\n",
       "      <td>2.884883e+07</td>\n",
       "    </tr>\n",
       "    <tr>\n",
       "      <th>min</th>\n",
       "      <td>15.200000</td>\n",
       "      <td>15.620000</td>\n",
       "      <td>14.870000</td>\n",
       "      <td>15.150000</td>\n",
       "      <td>11.327570</td>\n",
       "      <td>7.425600e+06</td>\n",
       "    </tr>\n",
       "    <tr>\n",
       "      <th>25%</th>\n",
       "      <td>27.209999</td>\n",
       "      <td>27.430000</td>\n",
       "      <td>27.010000</td>\n",
       "      <td>27.230000</td>\n",
       "      <td>20.029046</td>\n",
       "      <td>2.673180e+07</td>\n",
       "    </tr>\n",
       "    <tr>\n",
       "      <th>50%</th>\n",
       "      <td>35.880001</td>\n",
       "      <td>36.060001</td>\n",
       "      <td>35.490002</td>\n",
       "      <td>35.740002</td>\n",
       "      <td>29.652859</td>\n",
       "      <td>4.071710e+07</td>\n",
       "    </tr>\n",
       "    <tr>\n",
       "      <th>75%</th>\n",
       "      <td>107.170002</td>\n",
       "      <td>108.139999</td>\n",
       "      <td>105.785000</td>\n",
       "      <td>107.009998</td>\n",
       "      <td>101.618893</td>\n",
       "      <td>5.954170e+07</td>\n",
       "    </tr>\n",
       "    <tr>\n",
       "      <th>max</th>\n",
       "      <td>361.750000</td>\n",
       "      <td>366.779999</td>\n",
       "      <td>352.440002</td>\n",
       "      <td>359.489990</td>\n",
       "      <td>358.730469</td>\n",
       "      <td>5.910522e+08</td>\n",
       "    </tr>\n",
       "  </tbody>\n",
       "</table>\n",
       "</div>"
      ],
      "text/plain": [
       "              Open         High          Low        Close    Adj Close   \n",
       "count  5035.000000  5035.000000  5035.000000  5035.000000  5035.000000  \\\n",
       "mean     85.317498    86.172647    84.447170    85.342371    79.371501   \n",
       "std      90.518917    91.473685    89.529900    90.542409    91.715817   \n",
       "min      15.200000    15.620000    14.870000    15.150000    11.327570   \n",
       "25%      27.209999    27.430000    27.010000    27.230000    20.029046   \n",
       "50%      35.880001    36.060001    35.490002    35.740002    29.652859   \n",
       "75%     107.170002   108.139999   105.785000   107.009998   101.618893   \n",
       "max     361.750000   366.779999   352.440002   359.489990   358.730469   \n",
       "\n",
       "             Volume  \n",
       "count  5.035000e+03  \n",
       "mean   4.703265e+07  \n",
       "std    2.884883e+07  \n",
       "min    7.425600e+06  \n",
       "25%    2.673180e+07  \n",
       "50%    4.071710e+07  \n",
       "75%    5.954170e+07  \n",
       "max    5.910522e+08  "
      ]
     },
     "execution_count": 6,
     "metadata": {},
     "output_type": "execute_result"
    }
   ],
   "source": [
    "stock_data.describe()\n",
    "# Thống kê mô tả về tập dữ liệu"
   ]
  },
  {
   "cell_type": "markdown",
   "metadata": {},
   "source": [
    "# <font color=\"red\">B2:Kiểm tra và tiền xử lý dữ liệu(nếu có) </font>"
   ]
  },
  {
   "cell_type": "code",
   "execution_count": 7,
   "metadata": {},
   "outputs": [
    {
     "data": {
      "text/plain": [
       "(5035, 6)"
      ]
     },
     "execution_count": 7,
     "metadata": {},
     "output_type": "execute_result"
    }
   ],
   "source": [
    "stock_data.shape\n",
    "# kích thước dữ liệu"
   ]
  },
  {
   "cell_type": "code",
   "execution_count": 8,
   "metadata": {},
   "outputs": [
    {
     "data": {
      "text/plain": [
       "Open         float64\n",
       "High         float64\n",
       "Low          float64\n",
       "Close        float64\n",
       "Adj Close    float64\n",
       "Volume         int64\n",
       "dtype: object"
      ]
     },
     "execution_count": 8,
     "metadata": {},
     "output_type": "execute_result"
    }
   ],
   "source": [
    "stock_data.dtypes\n",
    "#Kiểu dữ liệu của từng feature"
   ]
  },
  {
   "cell_type": "code",
   "execution_count": 9,
   "metadata": {},
   "outputs": [
    {
     "data": {
      "text/plain": [
       "Open         0\n",
       "High         0\n",
       "Low          0\n",
       "Close        0\n",
       "Adj Close    0\n",
       "Volume       0\n",
       "dtype: int64"
      ]
     },
     "execution_count": 9,
     "metadata": {},
     "output_type": "execute_result"
    }
   ],
   "source": [
    "stock_data.isnull().sum()\n",
    "#check missing value"
   ]
  },
  {
   "cell_type": "markdown",
   "metadata": {},
   "source": [
    "### <font color = 'yellow' >Ta thấy tập dữ liệu này khá là sạch<font>"
   ]
  },
  {
   "cell_type": "code",
   "execution_count": 10,
   "metadata": {},
   "outputs": [
    {
     "data": {
      "text/plain": [
       "Date\n",
       "2003-10-20     18.394114\n",
       "2003-10-21     18.394114\n",
       "2003-10-22     18.105824\n",
       "2003-10-23     18.118355\n",
       "2003-10-24     16.676908\n",
       "                 ...    \n",
       "2023-10-13    327.730011\n",
       "2023-10-16    332.640015\n",
       "2023-10-17    332.059998\n",
       "2023-10-18    330.109985\n",
       "2023-10-19    331.320007\n",
       "Name: Adj Close, Length: 5035, dtype: float64"
      ]
     },
     "execution_count": 10,
     "metadata": {},
     "output_type": "execute_result"
    }
   ],
   "source": [
    "# Chọn cột 'Adj Close' (giá đóng cửa đã điều chỉnh) làm biến phụ thuộc (y)\n",
    "y = stock_data['Adj Close']\n",
    "y"
   ]
  },
  {
   "cell_type": "code",
   "execution_count": 11,
   "metadata": {},
   "outputs": [
    {
     "data": {
      "image/png": "[encoded data removed]",
      "text/plain": [
       "<Figure size 1200x600 with 1 Axes>"
      ]
     },
     "metadata": {},
     "output_type": "display_data"
    }
   ],
   "source": [
    "# Vẽ biểu đồ đường cho cột 'Adj Close'\n",
    "plt.figure(figsize=(12, 6))\n",
    "plt.plot(stock_data.index, y, label='Adj Close', color='blue')\n",
    "plt.title('Biểu đồ Adj Close')\n",
    "plt.xlabel('Ngày')\n",
    "plt.ylabel('Giá đóng cửa đã điều chỉnh')\n",
    "plt.legend()\n",
    "plt.grid(True)\n",
    "plt.show()"
   ]
  },
  {
   "cell_type": "code",
   "execution_count": 12,
   "metadata": {},
   "outputs": [
    {
     "data": {
      "text/html": [
       "<div>\n",
       "<style scoped>\n",
       "    .dataframe tbody tr th:only-of-type {\n",
       "        vertical-align: middle;\n",
       "    }\n",
       "\n",
       "    .dataframe tbody tr th {\n",
       "        vertical-align: top;\n",
       "    }\n",
       "\n",
       "    .dataframe thead th {\n",
       "        text-align: right;\n",
       "    }\n",
       "</style>\n",
       "<table border=\"1\" class=\"dataframe\">\n",
       "  <thead>\n",
       "    <tr style=\"text-align: right;\">\n",
       "      <th></th>\n",
       "      <th>Open</th>\n",
       "      <th>High</th>\n",
       "      <th>Low</th>\n",
       "      <th>Close</th>\n",
       "      <th>Volume</th>\n",
       "    </tr>\n",
       "    <tr>\n",
       "      <th>Date</th>\n",
       "      <th></th>\n",
       "      <th></th>\n",
       "      <th></th>\n",
       "      <th></th>\n",
       "      <th></th>\n",
       "    </tr>\n",
       "  </thead>\n",
       "  <tbody>\n",
       "    <tr>\n",
       "      <th>2003-10-20</th>\n",
       "      <td>28.950001</td>\n",
       "      <td>29.370001</td>\n",
       "      <td>28.799999</td>\n",
       "      <td>29.350000</td>\n",
       "      <td>38794500</td>\n",
       "    </tr>\n",
       "    <tr>\n",
       "      <th>2003-10-21</th>\n",
       "      <td>29.350000</td>\n",
       "      <td>29.430000</td>\n",
       "      <td>29.170000</td>\n",
       "      <td>29.350000</td>\n",
       "      <td>44166800</td>\n",
       "    </tr>\n",
       "    <tr>\n",
       "      <th>2003-10-22</th>\n",
       "      <td>29.030001</td>\n",
       "      <td>29.209999</td>\n",
       "      <td>28.799999</td>\n",
       "      <td>28.889999</td>\n",
       "      <td>48798500</td>\n",
       "    </tr>\n",
       "    <tr>\n",
       "      <th>2003-10-23</th>\n",
       "      <td>28.719999</td>\n",
       "      <td>29.080000</td>\n",
       "      <td>28.100000</td>\n",
       "      <td>28.910000</td>\n",
       "      <td>67357900</td>\n",
       "    </tr>\n",
       "    <tr>\n",
       "      <th>2003-10-24</th>\n",
       "      <td>27.270000</td>\n",
       "      <td>27.400000</td>\n",
       "      <td>26.420000</td>\n",
       "      <td>26.610001</td>\n",
       "      <td>210558300</td>\n",
       "    </tr>\n",
       "    <tr>\n",
       "      <th>...</th>\n",
       "      <td>...</td>\n",
       "      <td>...</td>\n",
       "      <td>...</td>\n",
       "      <td>...</td>\n",
       "      <td>...</td>\n",
       "    </tr>\n",
       "    <tr>\n",
       "      <th>2023-10-13</th>\n",
       "      <td>332.380005</td>\n",
       "      <td>333.829987</td>\n",
       "      <td>326.359985</td>\n",
       "      <td>327.730011</td>\n",
       "      <td>21072400</td>\n",
       "    </tr>\n",
       "    <tr>\n",
       "      <th>2023-10-16</th>\n",
       "      <td>331.049988</td>\n",
       "      <td>336.140015</td>\n",
       "      <td>330.600006</td>\n",
       "      <td>332.640015</td>\n",
       "      <td>22158000</td>\n",
       "    </tr>\n",
       "    <tr>\n",
       "      <th>2023-10-17</th>\n",
       "      <td>329.589996</td>\n",
       "      <td>333.459991</td>\n",
       "      <td>327.410004</td>\n",
       "      <td>332.059998</td>\n",
       "      <td>18338500</td>\n",
       "    </tr>\n",
       "    <tr>\n",
       "      <th>2023-10-18</th>\n",
       "      <td>332.489990</td>\n",
       "      <td>335.589996</td>\n",
       "      <td>328.299988</td>\n",
       "      <td>330.109985</td>\n",
       "      <td>23153600</td>\n",
       "    </tr>\n",
       "    <tr>\n",
       "      <th>2023-10-19</th>\n",
       "      <td>332.149994</td>\n",
       "      <td>336.880005</td>\n",
       "      <td>330.910004</td>\n",
       "      <td>331.320007</td>\n",
       "      <td>25052100</td>\n",
       "    </tr>\n",
       "  </tbody>\n",
       "</table>\n",
       "<p>5035 rows × 5 columns</p>\n",
       "</div>"
      ],
      "text/plain": [
       "                  Open        High         Low       Close     Volume\n",
       "Date                                                                 \n",
       "2003-10-20   28.950001   29.370001   28.799999   29.350000   38794500\n",
       "2003-10-21   29.350000   29.430000   29.170000   29.350000   44166800\n",
       "2003-10-22   29.030001   29.209999   28.799999   28.889999   48798500\n",
       "2003-10-23   28.719999   29.080000   28.100000   28.910000   67357900\n",
       "2003-10-24   27.270000   27.400000   26.420000   26.610001  210558300\n",
       "...                ...         ...         ...         ...        ...\n",
       "2023-10-13  332.380005  333.829987  326.359985  327.730011   21072400\n",
       "2023-10-16  331.049988  336.140015  330.600006  332.640015   22158000\n",
       "2023-10-17  329.589996  333.459991  327.410004  332.059998   18338500\n",
       "2023-10-18  332.489990  335.589996  328.299988  330.109985   23153600\n",
       "2023-10-19  332.149994  336.880005  330.910004  331.320007   25052100\n",
       "\n",
       "[5035 rows x 5 columns]"
      ]
     },
     "execution_count": 12,
     "metadata": {},
     "output_type": "execute_result"
    }
   ],
   "source": [
    "# Chọn các cột trừ cột 'Adj Close' làm biến độc lập (x)\n",
    "X = stock_data.drop(columns=['Adj Close'])\n",
    "X"
   ]
  },
  {
   "cell_type": "markdown",
   "metadata": {},
   "source": [
    "### <font color = 'yellow' >Thay vì sử dụng chỉ số( index) là số thứ tự thì ta sẽ dùng ngày tháng. Do ko ảnh hưởng đến việc huấn luyện nên ta không cần chuyển về dạng số thứ tự<font>"
   ]
  },
  {
   "cell_type": "markdown",
   "metadata": {},
   "source": [
    "### <font color = 'yellow' >Ta hãy lưu mô hình chuẩn hóa sau vào 1 file, để sau này chúng ta sẽ chuẩn hóa dữ liệu nhập vào theo file này( lưu chuẩn hóa của X vì dữ liệu chúng ta nhập vào là tập dữ liệu X, tức đầu vào)<font>"
   ]
  },
  {
   "cell_type": "code",
   "execution_count": 13,
   "metadata": {},
   "outputs": [
    {
     "data": {
      "text/html": [
       "<div>\n",
       "<style scoped>\n",
       "    .dataframe tbody tr th:only-of-type {\n",
       "        vertical-align: middle;\n",
       "    }\n",
       "\n",
       "    .dataframe tbody tr th {\n",
       "        vertical-align: top;\n",
       "    }\n",
       "\n",
       "    .dataframe thead th {\n",
       "        text-align: right;\n",
       "    }\n",
       "</style>\n",
       "<table border=\"1\" class=\"dataframe\">\n",
       "  <thead>\n",
       "    <tr style=\"text-align: right;\">\n",
       "      <th></th>\n",
       "      <th>Open</th>\n",
       "      <th>High</th>\n",
       "      <th>Low</th>\n",
       "      <th>Close</th>\n",
       "      <th>Volume</th>\n",
       "    </tr>\n",
       "    <tr>\n",
       "      <th>Date</th>\n",
       "      <th></th>\n",
       "      <th></th>\n",
       "      <th></th>\n",
       "      <th></th>\n",
       "      <th></th>\n",
       "    </tr>\n",
       "  </thead>\n",
       "  <tbody>\n",
       "    <tr>\n",
       "      <th>2003-10-20</th>\n",
       "      <td>0.039677</td>\n",
       "      <td>0.039156</td>\n",
       "      <td>0.041266</td>\n",
       "      <td>0.041238</td>\n",
       "      <td>0.053748</td>\n",
       "    </tr>\n",
       "    <tr>\n",
       "      <th>2003-10-21</th>\n",
       "      <td>0.040831</td>\n",
       "      <td>0.039327</td>\n",
       "      <td>0.042362</td>\n",
       "      <td>0.041238</td>\n",
       "      <td>0.062953</td>\n",
       "    </tr>\n",
       "    <tr>\n",
       "      <th>2003-10-22</th>\n",
       "      <td>0.039908</td>\n",
       "      <td>0.038700</td>\n",
       "      <td>0.041266</td>\n",
       "      <td>0.039902</td>\n",
       "      <td>0.070889</td>\n",
       "    </tr>\n",
       "    <tr>\n",
       "      <th>2003-10-23</th>\n",
       "      <td>0.039013</td>\n",
       "      <td>0.038330</td>\n",
       "      <td>0.039192</td>\n",
       "      <td>0.039961</td>\n",
       "      <td>0.102689</td>\n",
       "    </tr>\n",
       "    <tr>\n",
       "      <th>2003-10-24</th>\n",
       "      <td>0.034829</td>\n",
       "      <td>0.033546</td>\n",
       "      <td>0.034215</td>\n",
       "      <td>0.033281</td>\n",
       "      <td>0.348053</td>\n",
       "    </tr>\n",
       "    <tr>\n",
       "      <th>...</th>\n",
       "      <td>...</td>\n",
       "      <td>...</td>\n",
       "      <td>...</td>\n",
       "      <td>...</td>\n",
       "      <td>...</td>\n",
       "    </tr>\n",
       "    <tr>\n",
       "      <th>2023-10-13</th>\n",
       "      <td>0.915250</td>\n",
       "      <td>0.906168</td>\n",
       "      <td>0.922742</td>\n",
       "      <td>0.907766</td>\n",
       "      <td>0.023383</td>\n",
       "    </tr>\n",
       "    <tr>\n",
       "      <th>2023-10-16</th>\n",
       "      <td>0.911412</td>\n",
       "      <td>0.912746</td>\n",
       "      <td>0.935302</td>\n",
       "      <td>0.922025</td>\n",
       "      <td>0.025243</td>\n",
       "    </tr>\n",
       "    <tr>\n",
       "      <th>2023-10-17</th>\n",
       "      <td>0.907200</td>\n",
       "      <td>0.905114</td>\n",
       "      <td>0.925852</td>\n",
       "      <td>0.920340</td>\n",
       "      <td>0.018698</td>\n",
       "    </tr>\n",
       "    <tr>\n",
       "      <th>2023-10-18</th>\n",
       "      <td>0.915568</td>\n",
       "      <td>0.911180</td>\n",
       "      <td>0.928489</td>\n",
       "      <td>0.914677</td>\n",
       "      <td>0.026949</td>\n",
       "    </tr>\n",
       "    <tr>\n",
       "      <th>2023-10-19</th>\n",
       "      <td>0.914587</td>\n",
       "      <td>0.914854</td>\n",
       "      <td>0.936221</td>\n",
       "      <td>0.918191</td>\n",
       "      <td>0.030202</td>\n",
       "    </tr>\n",
       "  </tbody>\n",
       "</table>\n",
       "<p>5035 rows × 5 columns</p>\n",
       "</div>"
      ],
      "text/plain": [
       "                Open      High       Low     Close    Volume\n",
       "Date                                                        \n",
       "2003-10-20  0.039677  0.039156  0.041266  0.041238  0.053748\n",
       "2003-10-21  0.040831  0.039327  0.042362  0.041238  0.062953\n",
       "2003-10-22  0.039908  0.038700  0.041266  0.039902  0.070889\n",
       "2003-10-23  0.039013  0.038330  0.039192  0.039961  0.102689\n",
       "2003-10-24  0.034829  0.033546  0.034215  0.033281  0.348053\n",
       "...              ...       ...       ...       ...       ...\n",
       "2023-10-13  0.915250  0.906168  0.922742  0.907766  0.023383\n",
       "2023-10-16  0.911412  0.912746  0.935302  0.922025  0.025243\n",
       "2023-10-17  0.907200  0.905114  0.925852  0.920340  0.018698\n",
       "2023-10-18  0.915568  0.911180  0.928489  0.914677  0.026949\n",
       "2023-10-19  0.914587  0.914854  0.936221  0.918191  0.030202\n",
       "\n",
       "[5035 rows x 5 columns]"
      ]
     },
     "execution_count": 13,
     "metadata": {},
     "output_type": "execute_result"
    }
   ],
   "source": [
    "# Chuẩn hóa Min_Max_Scaler cho từng tập dữ liệu X( đầu vào) \n",
    "from sklearn.preprocessing import MinMaxScaler\n",
    "minmax_scale = MinMaxScaler()\n",
    "minmax_scale.fit(X)\n",
    "# Lưu mô hình chuẩn hóa vào tệp \"minmax_scaler_x.pkl\" bằng pickle\n",
    "import pickle\n",
    "with open(\"../Scaler_data/Scaler_Microsoft.pkl\", \"wb\") as file:\n",
    "    pickle.dump(minmax_scale, file)\n",
    "df_minmax_x = minmax_scale.transform(X)\n",
    "X_normalizier = pd.DataFrame(df_minmax_x, columns=X.columns, index= X.index) # Chuyển lại về dạng df cho dễ nhìn\n",
    "X_normalizier\n"
   ]
  },
  {
   "cell_type": "code",
   "execution_count": 14,
   "metadata": {},
   "outputs": [],
   "source": [
    "# Chia dữ liệu thành tập huấn luyện và tập kiểm tra\n",
    "X_train, X_test, y_train, y_test = train_test_split(X_normalizier, y, test_size=0.2, random_state=42)"
   ]
  },
  {
   "cell_type": "code",
   "execution_count": 15,
   "metadata": {},
   "outputs": [
    {
     "name": "stdout",
     "output_type": "stream",
     "text": [
      "(4028, 5)\n",
      "(1007, 5)\n",
      "(4028,)\n",
      "(1007,)\n"
     ]
    }
   ],
   "source": [
    "print(X_train.shape)\n",
    "print(X_test.shape)\n",
    "print(y_train.shape)\n",
    "print(y_test.shape)\n",
    "#kiểm tra độ lớn của dữ liệu sau khi chia"
   ]
  },
  {
   "cell_type": "markdown",
   "metadata": {},
   "source": [
    "# <font color = 'red'>3:Huấn luyện mô hình<font>"
   ]
  },
  {
   "cell_type": "code",
   "execution_count": 16,
   "metadata": {},
   "outputs": [
    {
     "data": {
      "text/html": [
       "<style>#sk-container-id-1 {color: black;background-color: white;}#sk-container-id-1 pre{padding: 0;}#sk-container-id-1 div.sk-toggleable {background-color: white;}#sk-container-id-1 label.sk-toggleable__label {cursor: pointer;display: block;width: 100%;margin-bottom: 0;padding: 0.3em;box-sizing: border-box;text-align: center;}#sk-container-id-1 label.sk-toggleable__label-arrow:before {content: \"▸\";float: left;margin-right: 0.25em;color: #696969;}#sk-container-id-1 label.sk-toggleable__label-arrow:hover:before {color: black;}#sk-container-id-1 div.sk-estimator:hover label.sk-toggleable__label-arrow:before {color: black;}#sk-container-id-1 div.sk-toggleable__content {max-height: 0;max-width: 0;overflow: hidden;text-align: left;background-color: #f0f8ff;}#sk-container-id-1 div.sk-toggleable__content pre {margin: 0.2em;color: black;border-radius: 0.25em;background-color: #f0f8ff;}#sk-container-id-1 input.sk-toggleable__control:checked~div.sk-toggleable__content {max-height: 200px;max-width: 100%;overflow: auto;}#sk-container-id-1 input.sk-toggleable__control:checked~label.sk-toggleable__label-arrow:before {content: \"▾\";}#sk-container-id-1 div.sk-estimator input.sk-toggleable__control:checked~label.sk-toggleable__label {background-color: #d4ebff;}#sk-container-id-1 div.sk-label input.sk-toggleable__control:checked~label.sk-toggleable__label {background-color: #d4ebff;}#sk-container-id-1 input.sk-hidden--visually {border: 0;clip: rect(1px 1px 1px 1px);clip: rect(1px, 1px, 1px, 1px);height: 1px;margin: -1px;overflow: hidden;padding: 0;position: absolute;width: 1px;}#sk-container-id-1 div.sk-estimator {font-family: monospace;background-color: #f0f8ff;border: 1px dotted black;border-radius: 0.25em;box-sizing: border-box;margin-bottom: 0.5em;}#sk-container-id-1 div.sk-estimator:hover {background-color: #d4ebff;}#sk-container-id-1 div.sk-parallel-item::after {content: \"\";width: 100%;border-bottom: 1px solid gray;flex-grow: 1;}#sk-container-id-1 div.sk-label:hover label.sk-toggleable__label {background-color: #d4ebff;}#sk-container-id-1 div.sk-serial::before {content: \"\";position: absolute;border-left: 1px solid gray;box-sizing: border-box;top: 0;bottom: 0;left: 50%;z-index: 0;}#sk-container-id-1 div.sk-serial {display: flex;flex-direction: column;align-items: center;background-color: white;padding-right: 0.2em;padding-left: 0.2em;position: relative;}#sk-container-id-1 div.sk-item {position: relative;z-index: 1;}#sk-container-id-1 div.sk-parallel {display: flex;align-items: stretch;justify-content: center;background-color: white;position: relative;}#sk-container-id-1 div.sk-item::before, #sk-container-id-1 div.sk-parallel-item::before {content: \"\";position: absolute;border-left: 1px solid gray;box-sizing: border-box;top: 0;bottom: 0;left: 50%;z-index: -1;}#sk-container-id-1 div.sk-parallel-item {display: flex;flex-direction: column;z-index: 1;position: relative;background-color: white;}#sk-container-id-1 div.sk-parallel-item:first-child::after {align-self: flex-end;width: 50%;}#sk-container-id-1 div.sk-parallel-item:last-child::after {align-self: flex-start;width: 50%;}#sk-container-id-1 div.sk-parallel-item:only-child::after {width: 0;}#sk-container-id-1 div.sk-dashed-wrapped {border: 1px dashed gray;margin: 0 0.4em 0.5em 0.4em;box-sizing: border-box;padding-bottom: 0.4em;background-color: white;}#sk-container-id-1 div.sk-label label {font-family: monospace;font-weight: bold;display: inline-block;line-height: 1.2em;}#sk-container-id-1 div.sk-label-container {text-align: center;}#sk-container-id-1 div.sk-container {/* jupyter's `normalize.less` sets `[hidden] { display: none; }` but bootstrap.min.css set `[hidden] { display: none !important; }` so we also need the `!important` here to be able to override the default hidden behavior on the sphinx rendered scikit-learn.org. See: https://github.com/scikit-learn/scikit-learn/issues/21755 */display: inline-block !important;position: relative;}#sk-container-id-1 div.sk-text-repr-fallback {display: none;}</style><div id=\"sk-container-id-1\" class=\"sk-top-container\"><div class=\"sk-text-repr-fallback\"><pre>LinearRegression()</pre><b>In a Jupyter environment, please rerun this cell to show the HTML representation or trust the notebook. <br />On GitHub, the HTML representation is unable to render, please try loading this page with nbviewer.org.</b></div><div class=\"sk-container\" hidden><div class=\"sk-item\"><div class=\"sk-estimator sk-toggleable\"><input class=\"sk-toggleable__control sk-hidden--visually\" id=\"sk-estimator-id-1\" type=\"checkbox\" checked><label for=\"sk-estimator-id-1\" class=\"sk-toggleable__label sk-toggleable__label-arrow\">LinearRegression</label><div class=\"sk-toggleable__content\"><pre>LinearRegression()</pre></div></div></div></div></div>"
      ],
      "text/plain": [
       "LinearRegression()"
      ]
     },
     "execution_count": 16,
     "metadata": {},
     "output_type": "execute_result"
    }
   ],
   "source": [
    "# Mô hình hồi quy tuyến tính\n",
    "model = LinearRegression()\n",
    "model.fit(X_train, y_train) # fit chính là hàm đào tạo"
   ]
  },
  {
   "cell_type": "markdown",
   "metadata": {},
   "source": [
    "# <font color=\"red\">4:Đánh giá mô hình</font>"
   ]
  },
  {
   "cell_type": "code",
   "execution_count": 17,
   "metadata": {},
   "outputs": [],
   "source": [
    "from sklearn.metrics import mean_squared_error, r2_score\n",
    "#mean_squared_error càng thấp(về 0) càng tốt\n",
    "#r2_score càng cao càng tốt"
   ]
  },
  {
   "cell_type": "code",
   "execution_count": 18,
   "metadata": {},
   "outputs": [],
   "source": [
    "y_pred = model.predict(X_test) #dự báo y_pred dựa trên tập x_test\n",
    "y_pred_train = model.predict(X_train)\n",
    "# Đánh giá mô hình bằng một số các metric, gói gọn vào 1 hàm để sử dụng ở phần sau\n",
    "def rate(y_test, y_pred,y_train,y_pred_train):\n",
    "    print('--------Kết quả trên dữ liệu huấn luyện-------')\n",
    "    mse_train = mean_squared_error(y_train, y_pred_train)\n",
    "    r2_train = r2_score(y_train, y_pred_train)\n",
    "\n",
    "    print(\"Mean Squared Error (MSE):\", mse_train)\n",
    "    print(\"R-squared (R2) Score:\", r2_train)\n",
    "\n",
    "    print('--------Kết quả thẩm định-------')\n",
    "    mse = mean_squared_error(y_test, y_pred)\n",
    "    r2 = r2_score(y_test, y_pred)\n",
    "\n",
    "    print(\"Mean Squared Error (MSE):\", mse)\n",
    "    print(\"R-squared (R2) Score:\", r2)"
   ]
  },
  {
   "cell_type": "code",
   "execution_count": 19,
   "metadata": {},
   "outputs": [
    {
     "name": "stdout",
     "output_type": "stream",
     "text": [
      "--------Kết quả trên dữ liệu huấn luyện-------\n",
      "Mean Squared Error (MSE): 1.9263475544074384\n",
      "R-squared (R2) Score: 0.9997693521851273\n",
      "--------Kết quả thẩm định-------\n",
      "Mean Squared Error (MSE): 2.1186873159877564\n",
      "R-squared (R2) Score: 0.9997548663669985\n"
     ]
    }
   ],
   "source": [
    "rate(y_test, y_pred,y_train,y_pred_train)"
   ]
  },
  {
   "cell_type": "code",
   "execution_count": 20,
   "metadata": {},
   "outputs": [
    {
     "name": "stdout",
     "output_type": "stream",
     "text": [
      "Date\n",
      "2018-04-09     85.298958\n",
      "2022-06-09    261.700928\n",
      "2012-12-12     22.309122\n",
      "2020-08-31    219.502670\n",
      "2008-11-04     17.355864\n",
      "                 ...    \n",
      "2013-10-22     28.957798\n",
      "2018-03-14     88.193314\n",
      "2005-08-22     19.026505\n",
      "2023-05-08    307.326050\n",
      "2008-10-31     16.470739\n",
      "Name: Adj Close, Length: 1007, dtype: float64\n"
     ]
    }
   ],
   "source": [
    "print(y_test)"
   ]
  },
  {
   "cell_type": "code",
   "execution_count": 21,
   "metadata": {},
   "outputs": [
    {
     "name": "stdout",
     "output_type": "stream",
     "text": [
      "[ 85.27209176 261.69401001  20.68812431 ...  20.37809216 304.98104079\n",
      "  15.20346519]\n"
     ]
    }
   ],
   "source": [
    "print(y_pred)"
   ]
  },
  {
   "cell_type": "code",
   "execution_count": 22,
   "metadata": {},
   "outputs": [
    {
     "data": {
      "text/html": [
       "<div>\n",
       "<style scoped>\n",
       "    .dataframe tbody tr th:only-of-type {\n",
       "        vertical-align: middle;\n",
       "    }\n",
       "\n",
       "    .dataframe tbody tr th {\n",
       "        vertical-align: top;\n",
       "    }\n",
       "\n",
       "    .dataframe thead th {\n",
       "        text-align: right;\n",
       "    }\n",
       "</style>\n",
       "<table border=\"1\" class=\"dataframe\">\n",
       "  <thead>\n",
       "    <tr style=\"text-align: right;\">\n",
       "      <th></th>\n",
       "      <th>Actual</th>\n",
       "      <th>Predicted</th>\n",
       "    </tr>\n",
       "    <tr>\n",
       "      <th>Date</th>\n",
       "      <th></th>\n",
       "      <th></th>\n",
       "    </tr>\n",
       "  </thead>\n",
       "  <tbody>\n",
       "    <tr>\n",
       "      <th>2018-04-09</th>\n",
       "      <td>85.298958</td>\n",
       "      <td>85.272092</td>\n",
       "    </tr>\n",
       "    <tr>\n",
       "      <th>2022-06-09</th>\n",
       "      <td>261.700928</td>\n",
       "      <td>261.694010</td>\n",
       "    </tr>\n",
       "    <tr>\n",
       "      <th>2012-12-12</th>\n",
       "      <td>22.309122</td>\n",
       "      <td>20.688124</td>\n",
       "    </tr>\n",
       "    <tr>\n",
       "      <th>2020-08-31</th>\n",
       "      <td>219.502670</td>\n",
       "      <td>221.319349</td>\n",
       "    </tr>\n",
       "    <tr>\n",
       "      <th>2008-11-04</th>\n",
       "      <td>17.355864</td>\n",
       "      <td>16.640396</td>\n",
       "    </tr>\n",
       "    <tr>\n",
       "      <th>2013-04-17</th>\n",
       "      <td>23.806795</td>\n",
       "      <td>22.171240</td>\n",
       "    </tr>\n",
       "    <tr>\n",
       "      <th>2004-10-04</th>\n",
       "      <td>17.675243</td>\n",
       "      <td>21.342168</td>\n",
       "    </tr>\n",
       "    <tr>\n",
       "      <th>2020-09-14</th>\n",
       "      <td>199.920395</td>\n",
       "      <td>201.289461</td>\n",
       "    </tr>\n",
       "    <tr>\n",
       "      <th>2020-04-17</th>\n",
       "      <td>172.926102</td>\n",
       "      <td>173.532413</td>\n",
       "    </tr>\n",
       "    <tr>\n",
       "      <th>2004-10-01</th>\n",
       "      <td>17.756954</td>\n",
       "      <td>21.441453</td>\n",
       "    </tr>\n",
       "  </tbody>\n",
       "</table>\n",
       "</div>"
      ],
      "text/plain": [
       "                Actual   Predicted\n",
       "Date                              \n",
       "2018-04-09   85.298958   85.272092\n",
       "2022-06-09  261.700928  261.694010\n",
       "2012-12-12   22.309122   20.688124\n",
       "2020-08-31  219.502670  221.319349\n",
       "2008-11-04   17.355864   16.640396\n",
       "2013-04-17   23.806795   22.171240\n",
       "2004-10-04   17.675243   21.342168\n",
       "2020-09-14  199.920395  201.289461\n",
       "2020-04-17  172.926102  173.532413\n",
       "2004-10-01   17.756954   21.441453"
      ]
     },
     "execution_count": 22,
     "metadata": {},
     "output_type": "execute_result"
    }
   ],
   "source": [
    "df_result = pd.DataFrame({'Actual':y_test, 'Predicted': y_pred})\n",
    "df_compare = df_result.head(10)\n",
    "df_compare\n",
    "#so sánh dữ liệu thực tế với dự đoán"
   ]
  },
  {
   "cell_type": "code",
   "execution_count": 23,
   "metadata": {},
   "outputs": [
    {
     "data": {
      "text/plain": [
       "<Axes: xlabel='Date'>"
      ]
     },
     "execution_count": 23,
     "metadata": {},
     "output_type": "execute_result"
    },
    {
     "data": {
      "image/png": "[encoded data removed]",
      "text/plain": [
       "<Figure size 640x480 with 1 Axes>"
      ]
     },
     "metadata": {},
     "output_type": "display_data"
    }
   ],
   "source": [
    "df_compare.plot(kind='line')\n",
    "# lập biểu đồ độ để dễ đánh giá"
   ]
  },
  {
   "cell_type": "markdown",
   "metadata": {},
   "source": [
    "### <font color = \"green\"> Ta thấy mô hình quá tốt<font>"
   ]
  },
  {
   "cell_type": "markdown",
   "metadata": {},
   "source": [
    "# <font color=\"red\">5:Lưu mô hình</font>"
   ]
  },
  {
   "cell_type": "markdown",
   "metadata": {},
   "source": [
    "Ta đang triển khai mô hình trong biến model"
   ]
  },
  {
   "cell_type": "code",
   "execution_count": 24,
   "metadata": {},
   "outputs": [],
   "source": [
    "import pickle\n",
    "# Tải mô hình từ file\n",
    "with open('../Model_data/Microsoft.pkl', 'wb') as model_file:\n",
    "    pickle.dump(model, model_file)"
   ]
  }
 ],
 "metadata": {
  "kernelspec": {
   "display_name": "anhkun",
   "language": "python",
   "name": "python3"
  },
  "language_info": {
   "codemirror_mode": {
    "name": "ipython",
    "version": 3
   },
   "file_extension": ".py",
   "mimetype": "text/x-python",
   "name": "python",
   "nbconvert_exporter": "python",
   "pygments_lexer": "ipython3",
   "version": "3.8.16"
  }
 },
 "nbformat": 4,
 "nbformat_minor": 2
}
