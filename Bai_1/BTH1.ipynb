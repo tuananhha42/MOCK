{
 "cells": [
  {
   "cell_type": "code",
   "execution_count": 12,
   "metadata": {},
   "outputs": [],
   "source": [
    "import tensorflow as tf\n",
    "import numpy as np"
   ]
  },
  {
   "cell_type": "code",
   "execution_count": 13,
   "metadata": {},
   "outputs": [
    {
     "name": "stdout",
     "output_type": "stream",
     "text": [
      "Vector: tf.Tensor([1 2 3], shape=(3,), dtype=int32)\n",
      "Scalar: tf.Tensor(5, shape=(), dtype=int32)\n",
      "Matrix: tf.Tensor(\n",
      "[[1 2]\n",
      " [3 4]], shape=(2, 2), dtype=int32)\n",
      "Tensor: tf.Tensor(\n",
      "[[[ 0  1  2  3]\n",
      "  [ 4  5  6  7]\n",
      "  [ 8  9 10 11]]\n",
      "\n",
      " [[12 13 14 15]\n",
      "  [16 17 18 19]\n",
      "  [20 21 22 23]]], shape=(2, 3, 4), dtype=int32)\n"
     ]
    }
   ],
   "source": [
    "# Bước 1: Tạo vector, scalar, matrix và tensor với giá trị tùy chọn sử dụng `tf.constant()`\n",
    "vector = tf.constant([1, 2, 3])  # Vector\n",
    "scalar = tf.constant(5)         # Scalar\n",
    "matrix = tf.constant([[1, 2], [3, 4]])  # Matrix\n",
    "tensor = tf.constant(np.arange(24).reshape(2, 3, 4))  # Tensor\n",
    "\n",
    "print(\"Vector:\", vector)\n",
    "print(\"Scalar:\", scalar)\n",
    "print(\"Matrix:\", matrix)\n",
    "print(\"Tensor:\", tensor)"
   ]
  },
  {
   "cell_type": "code",
   "execution_count": 14,
   "metadata": {},
   "outputs": [
    {
     "name": "stdout",
     "output_type": "stream",
     "text": [
      "Shape: (2, 3, 4)\n",
      "Rank: 3\n",
      "Size: tf.Tensor(24, shape=(), dtype=int32)\n"
     ]
    }
   ],
   "source": [
    "\n",
    "# Bước 2: Tìm shape, rank và size của tensor\n",
    "shape = tensor.shape\n",
    "rank = len(shape)\n",
    "size = tf.size(tensor)\n",
    "\n",
    "print(\"Shape:\", shape)\n",
    "print(\"Rank:\", rank)\n",
    "print(\"Size:\", size)"
   ]
  },
  {
   "cell_type": "code",
   "execution_count": 15,
   "metadata": {},
   "outputs": [
    {
     "name": "stdout",
     "output_type": "stream",
     "text": [
      "Random Tensor 1: tf.Tensor(\n",
      "[[0.82550275 0.7143433  0.137218   ... 0.09596658 0.07404315 0.7722641 ]\n",
      " [0.9191344  0.41749108 0.74295557 ... 0.3058076  0.68560445 0.5919887 ]\n",
      " [0.69000447 0.9633348  0.7034426  ... 0.6977259  0.52627826 0.44681942]\n",
      " [0.49756324 0.34989858 0.12533212 ... 0.474671   0.20864773 0.2454443 ]\n",
      " [0.94863844 0.8140873  0.836058   ... 0.38005626 0.6396127  0.08763528]], shape=(5, 300), dtype=float32)\n",
      "Random Tensor 2: tf.Tensor(\n",
      "[[0.5718659  0.25860834 0.19689524 ... 0.7955363  0.87184846 0.7223711 ]\n",
      " [0.01936531 0.04040694 0.13996816 ... 0.3402058  0.7620131  0.13865602]\n",
      " [0.2642368  0.367298   0.07675469 ... 0.5217943  0.6000694  0.5337982 ]\n",
      " [0.42681098 0.46898746 0.11795056 ... 0.08069909 0.70532584 0.8071004 ]\n",
      " [0.609594   0.70789003 0.48500097 ... 0.24899888 0.6222007  0.6308849 ]], shape=(5, 300), dtype=float32)\n"
     ]
    }
   ],
   "source": [
    "# Bước 3: Tạo hai tensor ngẫu nhiên\n",
    "random_tensor1 = tf.random.uniform((5, 300), 0, 1)\n",
    "random_tensor2 = tf.random.uniform((5, 300), 0, 1)\n",
    "\n",
    "print(\"Random Tensor 1:\", random_tensor1)\n",
    "print(\"Random Tensor 2:\", random_tensor2)"
   ]
  },
  {
   "cell_type": "code",
   "execution_count": 16,
   "metadata": {},
   "outputs": [
    {
     "name": "stdout",
     "output_type": "stream",
     "text": [
      "Matrix Product: tf.Tensor(\n",
      "[[70.69924  69.54688  68.860634 70.88913  69.329926]\n",
      " [76.73995  75.27011  76.33292  73.56859  75.90292 ]\n",
      " [74.34935  73.8496   74.6493   69.33482  72.76921 ]\n",
      " [73.92499  72.26071  74.42119  70.00919  72.96648 ]\n",
      " [74.77965  70.87076  73.212135 71.76995  73.23956 ]], shape=(5, 5), dtype=float32)\n"
     ]
    }
   ],
   "source": [
    "# Bước 4: Nhân hai tensor với phép nhân ma trận\n",
    "matrix_product = tf.matmul(random_tensor1, tf.transpose(random_tensor2))\n",
    "\n",
    "print(\"Matrix Product:\", matrix_product)\n"
   ]
  },
  {
   "cell_type": "code",
   "execution_count": 17,
   "metadata": {},
   "outputs": [
    {
     "name": "stdout",
     "output_type": "stream",
     "text": [
      "Elementwise Product: tf.Tensor(\n",
      "[[0.4720769  0.18473513 0.02701757 ... 0.07634489 0.06455441 0.55786127]\n",
      " [0.01779932 0.01686954 0.10399012 ... 0.10403752 0.52243954 0.08208279]\n",
      " [0.18232457 0.35383096 0.05399252 ... 0.3640694  0.31580347 0.23851141]\n",
      " [0.21236545 0.16409804 0.01478299 ... 0.03830552 0.14716463 0.1980982 ]\n",
      " [0.57828426 0.5762843  0.40548894 ... 0.09463359 0.39796746 0.05528777]], shape=(5, 300), dtype=float32)\n"
     ]
    }
   ],
   "source": [
    "# Bước 5: Nhân hai tensor với tích vô hướng\n",
    "elementwise_product = random_tensor1 * random_tensor2\n",
    "print(\"Elementwise Product:\", elementwise_product)\n"
   ]
  },
  {
   "cell_type": "code",
   "execution_count": 18,
   "metadata": {},
   "outputs": [
    {
     "name": "stdout",
     "output_type": "stream",
     "text": [
      "Random Image Tensor: tf.Tensor(\n",
      "[[[0.7230201  0.49178147 0.25750458]\n",
      "  [0.4612211  0.83165646 0.3308059 ]\n",
      "  [0.68313503 0.19645631 0.9638616 ]\n",
      "  ...\n",
      "  [0.21848607 0.6563456  0.58488536]\n",
      "  [0.19877064 0.60096395 0.96216154]\n",
      "  [0.56231654 0.32975256 0.06108725]]\n",
      "\n",
      " [[0.37309134 0.30162394 0.30515277]\n",
      "  [0.94500995 0.9931017  0.7545346 ]\n",
      "  [0.80919504 0.38986492 0.93784666]\n",
      "  ...\n",
      "  [0.23471022 0.52597606 0.9500774 ]\n",
      "  [0.4489571  0.47449017 0.84028244]\n",
      "  [0.01899338 0.8370453  0.4914416 ]]\n",
      "\n",
      " [[0.8667611  0.7697444  0.9915787 ]\n",
      "  [0.59512126 0.46568942 0.38351882]\n",
      "  [0.259879   0.8193058  0.0897429 ]\n",
      "  ...\n",
      "  [0.68486476 0.37449157 0.7339834 ]\n",
      "  [0.93596447 0.1505239  0.5448005 ]\n",
      "  [0.97392607 0.37375915 0.89892805]]\n",
      "\n",
      " ...\n",
      "\n",
      " [[0.39289367 0.82721436 0.06717789]\n",
      "  [0.02809489 0.8171276  0.36078072]\n",
      "  [0.897622   0.8511009  0.33439493]\n",
      "  ...\n",
      "  [0.3472618  0.7733147  0.8758942 ]\n",
      "  [0.33075666 0.5799135  0.54674816]\n",
      "  [0.8457966  0.29437912 0.5451964 ]]\n",
      "\n",
      " [[0.9868922  0.5658854  0.4305805 ]\n",
      "  [0.7923851  0.07544267 0.08006573]\n",
      "  [0.612409   0.6696259  0.06417692]\n",
      "  ...\n",
      "  [0.33872974 0.74952257 0.81954074]\n",
      "  [0.2983278  0.13335752 0.627491  ]\n",
      "  [0.1513443  0.9808072  0.01296592]]\n",
      "\n",
      " [[0.9915743  0.8562412  0.15611255]\n",
      "  [0.84440887 0.5857947  0.65584993]\n",
      "  [0.24954939 0.22868574 0.09667981]\n",
      "  ...\n",
      "  [0.9557564  0.6952896  0.3160938 ]\n",
      "  [0.5993761  0.25970387 0.15647471]\n",
      "  [0.6880996  0.6343684  0.8452879 ]]], shape=(224, 224, 3), dtype=float32)\n"
     ]
    }
   ],
   "source": [
    "# Bước 6: Tạo tensor ngẫu nhiên với shape (224, 224, 3)\n",
    "random_image_tensor = tf.random.uniform((224, 224, 3), 0, 1)\n",
    "print(\"Random Image Tensor:\", random_image_tensor)"
   ]
  },
  {
   "cell_type": "code",
   "execution_count": 19,
   "metadata": {},
   "outputs": [
    {
     "name": "stdout",
     "output_type": "stream",
     "text": [
      "Min Value: tf.Tensor(1.3113022e-06, shape=(), dtype=float32)\n",
      "Max Value: tf.Tensor(0.99998724, shape=(), dtype=float32)\n"
     ]
    }
   ],
   "source": [
    "# Bước 7: Tìm min và max của tensor\n",
    "min_value = tf.reduce_min(random_image_tensor)\n",
    "max_value = tf.reduce_max(random_image_tensor)\n",
    "\n",
    "print(\"Min Value:\", min_value)\n",
    "print(\"Max Value:\", max_value)"
   ]
  },
  {
   "cell_type": "code",
   "execution_count": 20,
   "metadata": {},
   "outputs": [
    {
     "name": "stdout",
     "output_type": "stream",
     "text": [
      "Absolute Tensor: tf.Tensor(\n",
      "[[[0.7230201  0.49178147 0.25750458]\n",
      "  [0.4612211  0.83165646 0.3308059 ]\n",
      "  [0.68313503 0.19645631 0.9638616 ]\n",
      "  ...\n",
      "  [0.21848607 0.6563456  0.58488536]\n",
      "  [0.19877064 0.60096395 0.96216154]\n",
      "  [0.56231654 0.32975256 0.06108725]]\n",
      "\n",
      " [[0.37309134 0.30162394 0.30515277]\n",
      "  [0.94500995 0.9931017  0.7545346 ]\n",
      "  [0.80919504 0.38986492 0.93784666]\n",
      "  ...\n",
      "  [0.23471022 0.52597606 0.9500774 ]\n",
      "  [0.4489571  0.47449017 0.84028244]\n",
      "  [0.01899338 0.8370453  0.4914416 ]]\n",
      "\n",
      " [[0.8667611  0.7697444  0.9915787 ]\n",
      "  [0.59512126 0.46568942 0.38351882]\n",
      "  [0.259879   0.8193058  0.0897429 ]\n",
      "  ...\n",
      "  [0.68486476 0.37449157 0.7339834 ]\n",
      "  [0.93596447 0.1505239  0.5448005 ]\n",
      "  [0.97392607 0.37375915 0.89892805]]\n",
      "\n",
      " ...\n",
      "\n",
      " [[0.39289367 0.82721436 0.06717789]\n",
      "  [0.02809489 0.8171276  0.36078072]\n",
      "  [0.897622   0.8511009  0.33439493]\n",
      "  ...\n",
      "  [0.3472618  0.7733147  0.8758942 ]\n",
      "  [0.33075666 0.5799135  0.54674816]\n",
      "  [0.8457966  0.29437912 0.5451964 ]]\n",
      "\n",
      " [[0.9868922  0.5658854  0.4305805 ]\n",
      "  [0.7923851  0.07544267 0.08006573]\n",
      "  [0.612409   0.6696259  0.06417692]\n",
      "  ...\n",
      "  [0.33872974 0.74952257 0.81954074]\n",
      "  [0.2983278  0.13335752 0.627491  ]\n",
      "  [0.1513443  0.9808072  0.01296592]]\n",
      "\n",
      " [[0.9915743  0.8562412  0.15611255]\n",
      "  [0.84440887 0.5857947  0.65584993]\n",
      "  [0.24954939 0.22868574 0.09667981]\n",
      "  ...\n",
      "  [0.9557564  0.6952896  0.3160938 ]\n",
      "  [0.5993761  0.25970387 0.15647471]\n",
      "  [0.6880996  0.6343684  0.8452879 ]]], shape=(224, 224, 3), dtype=float32)\n",
      "New Shape Tensor: tf.Tensor(\n",
      "[[[0.7230201  0.49178147 0.25750458]\n",
      "  [0.4612211  0.83165646 0.3308059 ]\n",
      "  [0.68313503 0.19645631 0.9638616 ]\n",
      "  ...\n",
      "  [0.21848607 0.6563456  0.58488536]\n",
      "  [0.19877064 0.60096395 0.96216154]\n",
      "  [0.56231654 0.32975256 0.06108725]]\n",
      "\n",
      " [[0.37309134 0.30162394 0.30515277]\n",
      "  [0.94500995 0.9931017  0.7545346 ]\n",
      "  [0.80919504 0.38986492 0.93784666]\n",
      "  ...\n",
      "  [0.23471022 0.52597606 0.9500774 ]\n",
      "  [0.4489571  0.47449017 0.84028244]\n",
      "  [0.01899338 0.8370453  0.4914416 ]]\n",
      "\n",
      " [[0.8667611  0.7697444  0.9915787 ]\n",
      "  [0.59512126 0.46568942 0.38351882]\n",
      "  [0.259879   0.8193058  0.0897429 ]\n",
      "  ...\n",
      "  [0.68486476 0.37449157 0.7339834 ]\n",
      "  [0.93596447 0.1505239  0.5448005 ]\n",
      "  [0.97392607 0.37375915 0.89892805]]\n",
      "\n",
      " ...\n",
      "\n",
      " [[0.39289367 0.82721436 0.06717789]\n",
      "  [0.02809489 0.8171276  0.36078072]\n",
      "  [0.897622   0.8511009  0.33439493]\n",
      "  ...\n",
      "  [0.3472618  0.7733147  0.8758942 ]\n",
      "  [0.33075666 0.5799135  0.54674816]\n",
      "  [0.8457966  0.29437912 0.5451964 ]]\n",
      "\n",
      " [[0.9868922  0.5658854  0.4305805 ]\n",
      "  [0.7923851  0.07544267 0.08006573]\n",
      "  [0.612409   0.6696259  0.06417692]\n",
      "  ...\n",
      "  [0.33872974 0.74952257 0.81954074]\n",
      "  [0.2983278  0.13335752 0.627491  ]\n",
      "  [0.1513443  0.9808072  0.01296592]]\n",
      "\n",
      " [[0.9915743  0.8562412  0.15611255]\n",
      "  [0.84440887 0.5857947  0.65584993]\n",
      "  [0.24954939 0.22868574 0.09667981]\n",
      "  ...\n",
      "  [0.9557564  0.6952896  0.3160938 ]\n",
      "  [0.5993761  0.25970387 0.15647471]\n",
      "  [0.6880996  0.6343684  0.8452879 ]]], shape=(224, 224, 3), dtype=float32)\n"
     ]
    }
   ],
   "source": [
    "# Bước 8: Tạo tensor với giá trị tuyệt đối và thay đổi shape\n",
    "abs_tensor = tf.abs(random_image_tensor)\n",
    "new_shape_tensor = tf.reshape(abs_tensor, (224, 224, 3))\n",
    "\n",
    "print(\"Absolute Tensor:\", abs_tensor)\n",
    "print(\"New Shape Tensor:\", new_shape_tensor)"
   ]
  },
  {
   "cell_type": "code",
   "execution_count": 21,
   "metadata": {},
   "outputs": [
    {
     "name": "stdout",
     "output_type": "stream",
     "text": [
      "Tensor 10: tf.Tensor([3 1 4 1 5 9 2 6 5 3], shape=(10,), dtype=int32)\n",
      "Argmax Index: tf.Tensor(5, shape=(), dtype=int64)\n"
     ]
    }
   ],
   "source": [
    "# Bước 9: Tạo tensor và tìm chỉ mục có giá trị lớn nhất\n",
    "tensor_10 = tf.constant([3, 1, 4, 1, 5, 9, 2, 6, 5, 3])\n",
    "argmax_index = tf.argmax(tensor_10)\n",
    "\n",
    "print(\"Tensor 10:\", tensor_10)\n",
    "print(\"Argmax Index:\", argmax_index)"
   ]
  },
  {
   "cell_type": "code",
   "execution_count": 22,
   "metadata": {},
   "outputs": [
    {
     "name": "stdout",
     "output_type": "stream",
     "text": [
      "One-Hot Encoded: tf.Tensor([0. 0. 0. 0. 0. 1. 0. 0. 0. 0.], shape=(10,), dtype=float32)\n"
     ]
    }
   ],
   "source": [
    "# Bước 10: Mã hóa one-hot tensor\n",
    "one_hot_encoded = tf.one_hot(argmax_index, depth=10)\n",
    "print(\"One-Hot Encoded:\", one_hot_encoded)"
   ]
  }
 ],
 "metadata": {
  "kernelspec": {
   "display_name": "anhkun",
   "language": "python",
   "name": "python3"
  },
  "language_info": {
   "codemirror_mode": {
    "name": "ipython",
    "version": 3
   },
   "file_extension": ".py",
   "mimetype": "text/x-python",
   "name": "python",
   "nbconvert_exporter": "python",
   "pygments_lexer": "ipython3",
   "version": "3.8.16"
  }
 },
 "nbformat": 4,
 "nbformat_minor": 2
}
